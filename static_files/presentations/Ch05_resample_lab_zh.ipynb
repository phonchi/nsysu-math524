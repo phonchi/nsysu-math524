{
  "cells": [
    {
      "cell_type": "markdown",
      "id": "85ad9863",
      "metadata": {
        "id": "85ad9863"
      },
      "source": [
        "\n",
        "# Chapter 5\n"
      ]
    },
    {
      "cell_type": "markdown",
      "metadata": {
        "id": "voqgsOgnCvUd"
      },
      "source": [
        "<table align=\"left\">\n",
        "  <td>\n",
        "    <a href=\"https://colab.research.google.com/github/phonchi/nsysu-math524/blob/main/static_files/presentations/Ch05-resample-lab-zh.ipynb\" target=\"_parent\"><img src=\"https://colab.research.google.com/assets/colab-badge.svg\" alt=\"Open In Colab\"/></a>\n",
        "  </td>\n",
        "  <td>\n",
        "    <a target=\"_blank\" href=\"https://kaggle.com/kernels/welcome?src=https://github.com/phonchi/nsysu-math524/blob/main/static_files/presentations/Ch05-resample-lab-zh.ipynb\"><img src=\"https://kaggle.com/static/images/open-in-kaggle.svg\" /></a>\n",
        "  </td>\n",
        "</table>\n"
      ],
      "id": "voqgsOgnCvUd"
    },
    {
      "cell_type": "code",
      "source": [
        "%load_ext cudf.pandas\n",
        "%load_ext cuml.accel"
      ],
      "metadata": {
        "id": "US1f82GZiZx6"
      },
      "id": "US1f82GZiZx6",
      "execution_count": null,
      "outputs": []
    },
    {
      "cell_type": "code",
      "source": [
        "%pip install ISLP"
      ],
      "metadata": {
        "colab": {
          "base_uri": "https://localhost:8080/"
        },
        "id": "thi0vdQcia8C",
        "outputId": "d3805c7a-ac25-42e0-84e3-0f8679767125"
      },
      "id": "thi0vdQcia8C",
      "execution_count": null,
      "outputs": [
        {
          "output_type": "stream",
          "name": "stdout",
          "text": [
            "Collecting ISLP\n",
            "  Downloading ISLP-0.4.0-py3-none-any.whl.metadata (7.0 kB)\n",
            "Requirement already satisfied: numpy>=1.7.1 in /usr/local/lib/python3.12/dist-packages (from ISLP) (2.0.2)\n",
            "Requirement already satisfied: scipy>=0.9 in /usr/local/lib/python3.12/dist-packages (from ISLP) (1.16.2)\n",
            "Requirement already satisfied: pandas>=0.20 in /usr/local/lib/python3.12/dist-packages (from ISLP) (2.2.2)\n",
            "Requirement already satisfied: lxml in /usr/local/lib/python3.12/dist-packages (from ISLP) (5.4.0)\n",
            "Requirement already satisfied: scikit-learn>=1.2 in /usr/local/lib/python3.12/dist-packages (from ISLP) (1.6.1)\n",
            "Requirement already satisfied: joblib in /usr/local/lib/python3.12/dist-packages (from ISLP) (1.5.2)\n",
            "Requirement already satisfied: statsmodels>=0.13 in /usr/local/lib/python3.12/dist-packages (from ISLP) (0.14.5)\n",
            "Collecting lifelines (from ISLP)\n",
            "  Downloading lifelines-0.30.0-py3-none-any.whl.metadata (3.2 kB)\n",
            "Collecting pygam (from ISLP)\n",
            "  Downloading pygam-0.10.1-py3-none-any.whl.metadata (9.7 kB)\n",
            "Requirement already satisfied: torch in /usr/local/lib/python3.12/dist-packages (from ISLP) (2.8.0+cu126)\n",
            "Collecting pytorch-lightning (from ISLP)\n",
            "  Downloading pytorch_lightning-2.5.5-py3-none-any.whl.metadata (20 kB)\n",
            "Collecting torchmetrics (from ISLP)\n",
            "  Downloading torchmetrics-1.8.2-py3-none-any.whl.metadata (22 kB)\n",
            "Requirement already satisfied: python-dateutil>=2.8.2 in /usr/local/lib/python3.12/dist-packages (from pandas>=0.20->ISLP) (2.9.0.post0)\n",
            "Requirement already satisfied: pytz>=2020.1 in /usr/local/lib/python3.12/dist-packages (from pandas>=0.20->ISLP) (2025.2)\n",
            "Requirement already satisfied: tzdata>=2022.7 in /usr/local/lib/python3.12/dist-packages (from pandas>=0.20->ISLP) (2025.2)\n",
            "Requirement already satisfied: threadpoolctl>=3.1.0 in /usr/local/lib/python3.12/dist-packages (from scikit-learn>=1.2->ISLP) (3.6.0)\n",
            "Requirement already satisfied: patsy>=0.5.6 in /usr/local/lib/python3.12/dist-packages (from statsmodels>=0.13->ISLP) (1.0.1)\n",
            "Requirement already satisfied: packaging>=21.3 in /usr/local/lib/python3.12/dist-packages (from statsmodels>=0.13->ISLP) (25.0)\n",
            "Requirement already satisfied: matplotlib>=3.0 in /usr/local/lib/python3.12/dist-packages (from lifelines->ISLP) (3.10.0)\n",
            "Requirement already satisfied: autograd>=1.5 in /usr/local/lib/python3.12/dist-packages (from lifelines->ISLP) (1.8.0)\n",
            "Collecting autograd-gamma>=0.3 (from lifelines->ISLP)\n",
            "  Downloading autograd-gamma-0.5.0.tar.gz (4.0 kB)\n",
            "  Preparing metadata (setup.py) ... \u001b[?25l\u001b[?25hdone\n",
            "Collecting formulaic>=0.2.2 (from lifelines->ISLP)\n",
            "  Downloading formulaic-1.2.1-py3-none-any.whl.metadata (7.0 kB)\n",
            "Requirement already satisfied: progressbar2<5,>=4.2.0 in /usr/local/lib/python3.12/dist-packages (from pygam->ISLP) (4.5.0)\n",
            "Requirement already satisfied: tqdm>=4.57.0 in /usr/local/lib/python3.12/dist-packages (from pytorch-lightning->ISLP) (4.67.1)\n",
            "Requirement already satisfied: PyYAML>5.4 in /usr/local/lib/python3.12/dist-packages (from pytorch-lightning->ISLP) (6.0.3)\n",
            "Requirement already satisfied: fsspec>=2022.5.0 in /usr/local/lib/python3.12/dist-packages (from fsspec[http]>=2022.5.0->pytorch-lightning->ISLP) (2025.3.0)\n",
            "Requirement already satisfied: typing-extensions>4.5.0 in /usr/local/lib/python3.12/dist-packages (from pytorch-lightning->ISLP) (4.15.0)\n",
            "Collecting lightning-utilities>=0.10.0 (from pytorch-lightning->ISLP)\n",
            "  Downloading lightning_utilities-0.15.2-py3-none-any.whl.metadata (5.7 kB)\n",
            "Requirement already satisfied: filelock in /usr/local/lib/python3.12/dist-packages (from torch->ISLP) (3.19.1)\n",
            "Requirement already satisfied: setuptools in /usr/local/lib/python3.12/dist-packages (from torch->ISLP) (75.2.0)\n",
            "Requirement already satisfied: sympy>=1.13.3 in /usr/local/lib/python3.12/dist-packages (from torch->ISLP) (1.13.3)\n",
            "Requirement already satisfied: networkx in /usr/local/lib/python3.12/dist-packages (from torch->ISLP) (3.5)\n",
            "Requirement already satisfied: jinja2 in /usr/local/lib/python3.12/dist-packages (from torch->ISLP) (3.1.6)\n",
            "Requirement already satisfied: nvidia-cuda-nvrtc-cu12==12.6.77 in /usr/local/lib/python3.12/dist-packages (from torch->ISLP) (12.6.77)\n",
            "Requirement already satisfied: nvidia-cuda-runtime-cu12==12.6.77 in /usr/local/lib/python3.12/dist-packages (from torch->ISLP) (12.6.77)\n",
            "Requirement already satisfied: nvidia-cuda-cupti-cu12==12.6.80 in /usr/local/lib/python3.12/dist-packages (from torch->ISLP) (12.6.80)\n",
            "Requirement already satisfied: nvidia-cudnn-cu12==9.10.2.21 in /usr/local/lib/python3.12/dist-packages (from torch->ISLP) (9.10.2.21)\n",
            "Requirement already satisfied: nvidia-cublas-cu12==12.6.4.1 in /usr/local/lib/python3.12/dist-packages (from torch->ISLP) (12.6.4.1)\n",
            "Requirement already satisfied: nvidia-cufft-cu12==11.3.0.4 in /usr/local/lib/python3.12/dist-packages (from torch->ISLP) (11.3.0.4)\n",
            "Requirement already satisfied: nvidia-curand-cu12==10.3.7.77 in /usr/local/lib/python3.12/dist-packages (from torch->ISLP) (10.3.7.77)\n",
            "Requirement already satisfied: nvidia-cusolver-cu12==11.7.1.2 in /usr/local/lib/python3.12/dist-packages (from torch->ISLP) (11.7.1.2)\n",
            "Requirement already satisfied: nvidia-cusparse-cu12==12.5.4.2 in /usr/local/lib/python3.12/dist-packages (from torch->ISLP) (12.5.4.2)\n",
            "Requirement already satisfied: nvidia-cusparselt-cu12==0.7.1 in /usr/local/lib/python3.12/dist-packages (from torch->ISLP) (0.7.1)\n",
            "Requirement already satisfied: nvidia-nccl-cu12==2.27.3 in /usr/local/lib/python3.12/dist-packages (from torch->ISLP) (2.27.3)\n",
            "Requirement already satisfied: nvidia-nvtx-cu12==12.6.77 in /usr/local/lib/python3.12/dist-packages (from torch->ISLP) (12.6.77)\n",
            "Requirement already satisfied: nvidia-nvjitlink-cu12==12.6.85 in /usr/local/lib/python3.12/dist-packages (from torch->ISLP) (12.6.85)\n",
            "Requirement already satisfied: nvidia-cufile-cu12==1.11.1.6 in /usr/local/lib/python3.12/dist-packages (from torch->ISLP) (1.11.1.6)\n",
            "Requirement already satisfied: triton==3.4.0 in /usr/local/lib/python3.12/dist-packages (from torch->ISLP) (3.4.0)\n",
            "Collecting interface-meta>=1.2.0 (from formulaic>=0.2.2->lifelines->ISLP)\n",
            "  Downloading interface_meta-1.3.0-py3-none-any.whl.metadata (6.7 kB)\n",
            "Requirement already satisfied: narwhals>=1.17 in /usr/local/lib/python3.12/dist-packages (from formulaic>=0.2.2->lifelines->ISLP) (2.6.0)\n",
            "Requirement already satisfied: wrapt>=1.0 in /usr/local/lib/python3.12/dist-packages (from formulaic>=0.2.2->lifelines->ISLP) (1.17.3)\n",
            "Requirement already satisfied: aiohttp!=4.0.0a0,!=4.0.0a1 in /usr/local/lib/python3.12/dist-packages (from fsspec[http]>=2022.5.0->pytorch-lightning->ISLP) (3.12.15)\n",
            "Requirement already satisfied: contourpy>=1.0.1 in /usr/local/lib/python3.12/dist-packages (from matplotlib>=3.0->lifelines->ISLP) (1.3.3)\n",
            "Requirement already satisfied: cycler>=0.10 in /usr/local/lib/python3.12/dist-packages (from matplotlib>=3.0->lifelines->ISLP) (0.12.1)\n",
            "Requirement already satisfied: fonttools>=4.22.0 in /usr/local/lib/python3.12/dist-packages (from matplotlib>=3.0->lifelines->ISLP) (4.60.1)\n",
            "Requirement already satisfied: kiwisolver>=1.3.1 in /usr/local/lib/python3.12/dist-packages (from matplotlib>=3.0->lifelines->ISLP) (1.4.9)\n",
            "Requirement already satisfied: pillow>=8 in /usr/local/lib/python3.12/dist-packages (from matplotlib>=3.0->lifelines->ISLP) (11.3.0)\n",
            "Requirement already satisfied: pyparsing>=2.3.1 in /usr/local/lib/python3.12/dist-packages (from matplotlib>=3.0->lifelines->ISLP) (3.2.5)\n",
            "Requirement already satisfied: python-utils>=3.8.1 in /usr/local/lib/python3.12/dist-packages (from progressbar2<5,>=4.2.0->pygam->ISLP) (3.9.1)\n",
            "Requirement already satisfied: six>=1.5 in /usr/local/lib/python3.12/dist-packages (from python-dateutil>=2.8.2->pandas>=0.20->ISLP) (1.17.0)\n",
            "Requirement already satisfied: mpmath<1.4,>=1.1.0 in /usr/local/lib/python3.12/dist-packages (from sympy>=1.13.3->torch->ISLP) (1.3.0)\n",
            "Requirement already satisfied: MarkupSafe>=2.0 in /usr/local/lib/python3.12/dist-packages (from jinja2->torch->ISLP) (3.0.3)\n",
            "Requirement already satisfied: aiohappyeyeballs>=2.5.0 in /usr/local/lib/python3.12/dist-packages (from aiohttp!=4.0.0a0,!=4.0.0a1->fsspec[http]>=2022.5.0->pytorch-lightning->ISLP) (2.6.1)\n",
            "Requirement already satisfied: aiosignal>=1.4.0 in /usr/local/lib/python3.12/dist-packages (from aiohttp!=4.0.0a0,!=4.0.0a1->fsspec[http]>=2022.5.0->pytorch-lightning->ISLP) (1.4.0)\n",
            "Requirement already satisfied: attrs>=17.3.0 in /usr/local/lib/python3.12/dist-packages (from aiohttp!=4.0.0a0,!=4.0.0a1->fsspec[http]>=2022.5.0->pytorch-lightning->ISLP) (25.3.0)\n",
            "Requirement already satisfied: frozenlist>=1.1.1 in /usr/local/lib/python3.12/dist-packages (from aiohttp!=4.0.0a0,!=4.0.0a1->fsspec[http]>=2022.5.0->pytorch-lightning->ISLP) (1.7.0)\n",
            "Requirement already satisfied: multidict<7.0,>=4.5 in /usr/local/lib/python3.12/dist-packages (from aiohttp!=4.0.0a0,!=4.0.0a1->fsspec[http]>=2022.5.0->pytorch-lightning->ISLP) (6.6.4)\n",
            "Requirement already satisfied: propcache>=0.2.0 in /usr/local/lib/python3.12/dist-packages (from aiohttp!=4.0.0a0,!=4.0.0a1->fsspec[http]>=2022.5.0->pytorch-lightning->ISLP) (0.3.2)\n",
            "Requirement already satisfied: yarl<2.0,>=1.17.0 in /usr/local/lib/python3.12/dist-packages (from aiohttp!=4.0.0a0,!=4.0.0a1->fsspec[http]>=2022.5.0->pytorch-lightning->ISLP) (1.20.1)\n",
            "Requirement already satisfied: idna>=2.0 in /usr/local/lib/python3.12/dist-packages (from yarl<2.0,>=1.17.0->aiohttp!=4.0.0a0,!=4.0.0a1->fsspec[http]>=2022.5.0->pytorch-lightning->ISLP) (3.10)\n",
            "Downloading ISLP-0.4.0-py3-none-any.whl (3.6 MB)\n",
            "\u001b[2K   \u001b[90m━━━━━━━━━━━━━━━━━━━━━━━━━━━━━━━━━━━━━━━━\u001b[0m \u001b[32m3.6/3.6 MB\u001b[0m \u001b[31m61.3 MB/s\u001b[0m eta \u001b[36m0:00:00\u001b[0m\n",
            "\u001b[?25hDownloading lifelines-0.30.0-py3-none-any.whl (349 kB)\n",
            "\u001b[2K   \u001b[90m━━━━━━━━━━━━━━━━━━━━━━━━━━━━━━━━━━━━━━━━\u001b[0m \u001b[32m349.3/349.3 kB\u001b[0m \u001b[31m25.7 MB/s\u001b[0m eta \u001b[36m0:00:00\u001b[0m\n",
            "\u001b[?25hDownloading pygam-0.10.1-py3-none-any.whl (80 kB)\n",
            "\u001b[2K   \u001b[90m━━━━━━━━━━━━━━━━━━━━━━━━━━━━━━━━━━━━━━━━\u001b[0m \u001b[32m80.2/80.2 kB\u001b[0m \u001b[31m6.5 MB/s\u001b[0m eta \u001b[36m0:00:00\u001b[0m\n",
            "\u001b[?25hDownloading pytorch_lightning-2.5.5-py3-none-any.whl (832 kB)\n",
            "\u001b[2K   \u001b[90m━━━━━━━━━━━━━━━━━━━━━━━━━━━━━━━━━━━━━━━━\u001b[0m \u001b[32m832.4/832.4 kB\u001b[0m \u001b[31m44.2 MB/s\u001b[0m eta \u001b[36m0:00:00\u001b[0m\n",
            "\u001b[?25hDownloading torchmetrics-1.8.2-py3-none-any.whl (983 kB)\n",
            "\u001b[2K   \u001b[90m━━━━━━━━━━━━━━━━━━━━━━━━━━━━━━━━━━━━━━━━\u001b[0m \u001b[32m983.2/983.2 kB\u001b[0m \u001b[31m57.4 MB/s\u001b[0m eta \u001b[36m0:00:00\u001b[0m\n",
            "\u001b[?25hDownloading formulaic-1.2.1-py3-none-any.whl (117 kB)\n",
            "\u001b[2K   \u001b[90m━━━━━━━━━━━━━━━━━━━━━━━━━━━━━━━━━━━━━━━━\u001b[0m \u001b[32m117.3/117.3 kB\u001b[0m \u001b[31m9.6 MB/s\u001b[0m eta \u001b[36m0:00:00\u001b[0m\n",
            "\u001b[?25hDownloading lightning_utilities-0.15.2-py3-none-any.whl (29 kB)\n",
            "Downloading interface_meta-1.3.0-py3-none-any.whl (14 kB)\n",
            "Building wheels for collected packages: autograd-gamma\n",
            "  Building wheel for autograd-gamma (setup.py) ... \u001b[?25l\u001b[?25hdone\n",
            "  Created wheel for autograd-gamma: filename=autograd_gamma-0.5.0-py3-none-any.whl size=4030 sha256=cf0c05c4d177d8bcb5daf4b0749af0b304205a9eadf5399ac3c027cffdb31c94\n",
            "  Stored in directory: /root/.cache/pip/wheels/50/37/21/0a719b9d89c635e89ff24bd93b862882ad675279552013b2fb\n",
            "Successfully built autograd-gamma\n",
            "Installing collected packages: lightning-utilities, interface-meta, autograd-gamma, pygam, formulaic, torchmetrics, lifelines, pytorch-lightning, ISLP\n",
            "Successfully installed ISLP-0.4.0 autograd-gamma-0.5.0 formulaic-1.2.1 interface-meta-1.3.0 lifelines-0.30.0 lightning-utilities-0.15.2 pygam-0.10.1 pytorch-lightning-2.5.5 torchmetrics-1.8.2\n"
          ]
        }
      ]
    },
    {
      "cell_type": "code",
      "metadata": {
        "id": "uFIcRf4SiMtB"
      },
      "execution_count": null,
      "outputs": [],
      "source": [
        "# 本 Notebook 使用的匯入（imports）\n",
        "import numpy as np  # 數值運算與陣列處理\n",
        "import seaborn as sns  # 統計視覺化\n",
        "import matplotlib.pyplot as plt  # 繪圖指令與樣式\n",
        "import statsmodels.api as sm  # 統計模型與推論\n",
        "from functools import partial  # 偏函式，便於固定部分參數\n",
        "from tqdm.notebook import trange, tqdm  # 進度條顯示\n",
        "from ISLP import load_data  # ISLP 資料載入\n",
        "from ISLP.models import (\n",
        "    ModelSpec as MS,\n",
        "    summarize,\n",
        "    poly,\n",
        "    sklearn_sm\n",
        ")  # 模型公式、摘要、多項式與 sklearn-樣式介面\n",
        "from sklearn import metrics  # 評估指標（MSE、MAE、R^2 等）\n",
        "from sklearn.base import clone  # 複製估計器以重設狀態\n",
        "from sklearn.linear_model import LinearRegression  # 線性回歸\n",
        "from sklearn.model_selection import LeaveOneOut, cross_validate, ShuffleSplit\n",
        "from sklearn.model_selection import (  # 重抽樣/驗證工具\n",
        "    KFold, StratifiedKFold, cross_val_score, train_test_split\n",
        ")\n",
        "from sklearn.preprocessing import PolynomialFeatures  # 多項式特徵轉換"
      ],
      "id": "uFIcRf4SiMtB"
    },
    {
      "cell_type": "markdown",
      "metadata": {
        "id": "6rZW2jIiCzD0"
      },
      "source": [
        "# Cross-Validation（交叉驗證）與 Bootstrap"
      ],
      "id": "6rZW2jIiCzD0"
    },
    {
      "cell_type": "markdown",
      "metadata": {
        "id": "ac8b08af"
      },
      "source": [
        "在本實驗中，我們將探索本章涵蓋的重抽樣技術。本實驗的某些指令在我們的電腦上可能需要一些時間執行。\n",
        "\n",
        "我們再次從頂層放置大部分的 imports 開始。"
      ],
      "id": "ac8b08af"
    },
    {
      "cell_type": "markdown",
      "metadata": {
        "id": "byJpq4cLYxEu"
      },
      "source": [
        "我們必須重新啟動執行環境以使用新安裝的版本！"
      ],
      "id": "byJpq4cLYxEu"
    },
    {
      "cell_type": "code",
      "metadata": {
        "execution": {},
        "lines_to_next_cell": 2,
        "id": "e7712cfe"
      },
      "execution_count": null,
      "outputs": [],
      "source": [
        "%matplotlib inline\n",
        "sns.set_context(\"notebook\", font_scale=1.5, rc={\"lines.linewidth\": 2.5})"
      ],
      "id": "e7712cfe"
    },
    {
      "cell_type": "markdown",
      "metadata": {
        "id": "fsRHfE2FUHh9"
      },
      "source": [
        "為了獲得最佳的 cross-validation（交叉驗證）(CV) 結果穩健性，在建立估計器時傳遞 `RandomState` 實例，或將 `random_state` 留為 `None`。將整數傳遞給 CV 分割器通常是最安全的選擇且較為推薦。更多資訊請參見[這裡](https://scikit-learn.org/stable/common_pitfalls.html#robustness-of-cross-validation-results)。"
      ],
      "id": "fsRHfE2FUHh9"
    },
    {
      "cell_type": "code",
      "metadata": {
        "id": "tQ8Zm_TqKucc"
      },
      "execution_count": null,
      "outputs": [],
      "source": [
        "rng = np.random.RandomState(42)"
      ],
      "id": "tQ8Zm_TqKucc"
    },
    {
      "cell_type": "markdown",
      "metadata": {
        "id": "CgWd5qW-DJdk"
      },
      "source": [
        "## Validation Set（驗證集）方法"
      ],
      "id": "CgWd5qW-DJdk"
    },
    {
      "cell_type": "markdown",
      "metadata": {
        "id": "9ac3acd5"
      },
      "source": [
        "我們探索使用 validation set（驗證集）方法來估計在 [`Auto`](https://islp.readthedocs.io/en/latest/datasets/Auto.html) 資料集上擬合各種線性模型所產生的測試錯誤率。"
      ],
      "id": "9ac3acd5"
    },
    {
      "cell_type": "code",
      "metadata": {
        "execution": {},
        "id": "8af59641",
        "colab": {
          "base_uri": "https://localhost:8080/"
        },
        "outputId": "8b3d1de6-5190-481b-d6a4-6d30259bb3e6"
      },
      "execution_count": null,
      "outputs": [
        {
          "output_type": "stream",
          "name": "stdout",
          "text": [
            "(392, 8)\n",
            "<class 'pandas.core.frame.DataFrame'>\n",
            "Index: 392 entries, chevrolet chevelle malibu to chevy s-10\n",
            "Data columns (total 8 columns):\n",
            " #   Column        Non-Null Count  Dtype  \n",
            "---  ------        --------------  -----  \n",
            " 0   mpg           392 non-null    float64\n",
            " 1   cylinders     392 non-null    int64  \n",
            " 2   displacement  392 non-null    float64\n",
            " 3   horsepower    392 non-null    int64  \n",
            " 4   weight        392 non-null    int64  \n",
            " 5   acceleration  392 non-null    float64\n",
            " 6   year          392 non-null    int64  \n",
            " 7   origin        392 non-null    int64  \n",
            "dtypes: float64(3), int64(5)\n",
            "memory usage: 27.6+ KB\n"
          ]
        }
      ],
      "source": [
        "Auto = load_data('Auto')\n",
        "print(Auto.shape)\n",
        "Auto.info()"
      ],
      "id": "8af59641"
    },
    {
      "cell_type": "code",
      "metadata": {
        "colab": {
          "base_uri": "https://localhost:8080/",
          "height": 237
        },
        "id": "xpCYU81KDVOY",
        "outputId": "e87a3c59-db14-4477-fc93-e8b4952c7e3a"
      },
      "execution_count": null,
      "outputs": [
        {
          "output_type": "execute_result",
          "data": {
            "text/plain": [
              "                            mpg  cylinders  displacement  horsepower  weight  \\\n",
              "name                                                                           \n",
              "chevrolet chevelle malibu  18.0          8         307.0         130    3504   \n",
              "buick skylark 320          15.0          8         350.0         165    3693   \n",
              "plymouth satellite         18.0          8         318.0         150    3436   \n",
              "amc rebel sst              16.0          8         304.0         150    3433   \n",
              "ford torino                17.0          8         302.0         140    3449   \n",
              "\n",
              "                           acceleration  year  origin  \n",
              "name                                                   \n",
              "chevrolet chevelle malibu          12.0    70       1  \n",
              "buick skylark 320                  11.5    70       1  \n",
              "plymouth satellite                 11.0    70       1  \n",
              "amc rebel sst                      12.0    70       1  \n",
              "ford torino                        10.5    70       1  "
            ],
            "text/html": [
              "\n",
              "  <div id=\"df-1e716d4e-9eca-411a-b2c4-a999ecc71a25\" class=\"colab-df-container\">\n",
              "    <div>\n",
              "<style scoped>\n",
              "    .dataframe tbody tr th:only-of-type {\n",
              "        vertical-align: middle;\n",
              "    }\n",
              "\n",
              "    .dataframe tbody tr th {\n",
              "        vertical-align: top;\n",
              "    }\n",
              "\n",
              "    .dataframe thead th {\n",
              "        text-align: right;\n",
              "    }\n",
              "</style>\n",
              "<table border=\"1\" class=\"dataframe\">\n",
              "  <thead>\n",
              "    <tr style=\"text-align: right;\">\n",
              "      <th></th>\n",
              "      <th>mpg</th>\n",
              "      <th>cylinders</th>\n",
              "      <th>displacement</th>\n",
              "      <th>horsepower</th>\n",
              "      <th>weight</th>\n",
              "      <th>acceleration</th>\n",
              "      <th>year</th>\n",
              "      <th>origin</th>\n",
              "    </tr>\n",
              "    <tr>\n",
              "      <th>name</th>\n",
              "      <th></th>\n",
              "      <th></th>\n",
              "      <th></th>\n",
              "      <th></th>\n",
              "      <th></th>\n",
              "      <th></th>\n",
              "      <th></th>\n",
              "      <th></th>\n",
              "    </tr>\n",
              "  </thead>\n",
              "  <tbody>\n",
              "    <tr>\n",
              "      <th>chevrolet chevelle malibu</th>\n",
              "      <td>18.0</td>\n",
              "      <td>8</td>\n",
              "      <td>307.0</td>\n",
              "      <td>130</td>\n",
              "      <td>3504</td>\n",
              "      <td>12.0</td>\n",
              "      <td>70</td>\n",
              "      <td>1</td>\n",
              "    </tr>\n",
              "    <tr>\n",
              "      <th>buick skylark 320</th>\n",
              "      <td>15.0</td>\n",
              "      <td>8</td>\n",
              "      <td>350.0</td>\n",
              "      <td>165</td>\n",
              "      <td>3693</td>\n",
              "      <td>11.5</td>\n",
              "      <td>70</td>\n",
              "      <td>1</td>\n",
              "    </tr>\n",
              "    <tr>\n",
              "      <th>plymouth satellite</th>\n",
              "      <td>18.0</td>\n",
              "      <td>8</td>\n",
              "      <td>318.0</td>\n",
              "      <td>150</td>\n",
              "      <td>3436</td>\n",
              "      <td>11.0</td>\n",
              "      <td>70</td>\n",
              "      <td>1</td>\n",
              "    </tr>\n",
              "    <tr>\n",
              "      <th>amc rebel sst</th>\n",
              "      <td>16.0</td>\n",
              "      <td>8</td>\n",
              "      <td>304.0</td>\n",
              "      <td>150</td>\n",
              "      <td>3433</td>\n",
              "      <td>12.0</td>\n",
              "      <td>70</td>\n",
              "      <td>1</td>\n",
              "    </tr>\n",
              "    <tr>\n",
              "      <th>ford torino</th>\n",
              "      <td>17.0</td>\n",
              "      <td>8</td>\n",
              "      <td>302.0</td>\n",
              "      <td>140</td>\n",
              "      <td>3449</td>\n",
              "      <td>10.5</td>\n",
              "      <td>70</td>\n",
              "      <td>1</td>\n",
              "    </tr>\n",
              "  </tbody>\n",
              "</table>\n",
              "</div>\n",
              "    <div class=\"colab-df-buttons\">\n",
              "\n",
              "  <div class=\"colab-df-container\">\n",
              "    <button class=\"colab-df-convert\" onclick=\"convertToInteractive('df-1e716d4e-9eca-411a-b2c4-a999ecc71a25')\"\n",
              "            title=\"Convert this dataframe to an interactive table.\"\n",
              "            style=\"display:none;\">\n",
              "\n",
              "  <svg xmlns=\"http://www.w3.org/2000/svg\" height=\"24px\" viewBox=\"0 -960 960 960\">\n",
              "    <path d=\"M120-120v-720h720v720H120Zm60-500h600v-160H180v160Zm220 220h160v-160H400v160Zm0 220h160v-160H400v160ZM180-400h160v-160H180v160Zm440 0h160v-160H620v160ZM180-180h160v-160H180v160Zm440 0h160v-160H620v160Z\"/>\n",
              "  </svg>\n",
              "    </button>\n",
              "\n",
              "  <style>\n",
              "    .colab-df-container {\n",
              "      display:flex;\n",
              "      gap: 12px;\n",
              "    }\n",
              "\n",
              "    .colab-df-convert {\n",
              "      background-color: #E8F0FE;\n",
              "      border: none;\n",
              "      border-radius: 50%;\n",
              "      cursor: pointer;\n",
              "      display: none;\n",
              "      fill: #1967D2;\n",
              "      height: 32px;\n",
              "      padding: 0 0 0 0;\n",
              "      width: 32px;\n",
              "    }\n",
              "\n",
              "    .colab-df-convert:hover {\n",
              "      background-color: #E2EBFA;\n",
              "      box-shadow: 0px 1px 2px rgba(60, 64, 67, 0.3), 0px 1px 3px 1px rgba(60, 64, 67, 0.15);\n",
              "      fill: #174EA6;\n",
              "    }\n",
              "\n",
              "    .colab-df-buttons div {\n",
              "      margin-bottom: 4px;\n",
              "    }\n",
              "\n",
              "    [theme=dark] .colab-df-convert {\n",
              "      background-color: #3B4455;\n",
              "      fill: #D2E3FC;\n",
              "    }\n",
              "\n",
              "    [theme=dark] .colab-df-convert:hover {\n",
              "      background-color: #434B5C;\n",
              "      box-shadow: 0px 1px 3px 1px rgba(0, 0, 0, 0.15);\n",
              "      filter: drop-shadow(0px 1px 2px rgba(0, 0, 0, 0.3));\n",
              "      fill: #FFFFFF;\n",
              "    }\n",
              "  </style>\n",
              "\n",
              "    <script>\n",
              "      const buttonEl =\n",
              "        document.querySelector('#df-1e716d4e-9eca-411a-b2c4-a999ecc71a25 button.colab-df-convert');\n",
              "      buttonEl.style.display =\n",
              "        google.colab.kernel.accessAllowed ? 'block' : 'none';\n",
              "\n",
              "      async function convertToInteractive(key) {\n",
              "        const element = document.querySelector('#df-1e716d4e-9eca-411a-b2c4-a999ecc71a25');\n",
              "        const dataTable =\n",
              "          await google.colab.kernel.invokeFunction('convertToInteractive',\n",
              "                                                    [key], {});\n",
              "        if (!dataTable) return;\n",
              "\n",
              "        const docLinkHtml = 'Like what you see? Visit the ' +\n",
              "          '<a target=\"_blank\" href=https://colab.research.google.com/notebooks/data_table.ipynb>data table notebook</a>'\n",
              "          + ' to learn more about interactive tables.';\n",
              "        element.innerHTML = '';\n",
              "        dataTable['output_type'] = 'display_data';\n",
              "        await google.colab.output.renderOutput(dataTable, element);\n",
              "        const docLink = document.createElement('div');\n",
              "        docLink.innerHTML = docLinkHtml;\n",
              "        element.appendChild(docLink);\n",
              "      }\n",
              "    </script>\n",
              "  </div>\n",
              "\n",
              "\n",
              "    <div id=\"df-ca5232f6-7e2f-4aa2-a800-06c8a1df891a\">\n",
              "      <button class=\"colab-df-quickchart\" onclick=\"quickchart('df-ca5232f6-7e2f-4aa2-a800-06c8a1df891a')\"\n",
              "                title=\"Suggest charts\"\n",
              "                style=\"display:none;\">\n",
              "\n",
              "<svg xmlns=\"http://www.w3.org/2000/svg\" height=\"24px\"viewBox=\"0 0 24 24\"\n",
              "     width=\"24px\">\n",
              "    <g>\n",
              "        <path d=\"M19 3H5c-1.1 0-2 .9-2 2v14c0 1.1.9 2 2 2h14c1.1 0 2-.9 2-2V5c0-1.1-.9-2-2-2zM9 17H7v-7h2v7zm4 0h-2V7h2v10zm4 0h-2v-4h2v4z\"/>\n",
              "    </g>\n",
              "</svg>\n",
              "      </button>\n",
              "\n",
              "<style>\n",
              "  .colab-df-quickchart {\n",
              "      --bg-color: #E8F0FE;\n",
              "      --fill-color: #1967D2;\n",
              "      --hover-bg-color: #E2EBFA;\n",
              "      --hover-fill-color: #174EA6;\n",
              "      --disabled-fill-color: #AAA;\n",
              "      --disabled-bg-color: #DDD;\n",
              "  }\n",
              "\n",
              "  [theme=dark] .colab-df-quickchart {\n",
              "      --bg-color: #3B4455;\n",
              "      --fill-color: #D2E3FC;\n",
              "      --hover-bg-color: #434B5C;\n",
              "      --hover-fill-color: #FFFFFF;\n",
              "      --disabled-bg-color: #3B4455;\n",
              "      --disabled-fill-color: #666;\n",
              "  }\n",
              "\n",
              "  .colab-df-quickchart {\n",
              "    background-color: var(--bg-color);\n",
              "    border: none;\n",
              "    border-radius: 50%;\n",
              "    cursor: pointer;\n",
              "    display: none;\n",
              "    fill: var(--fill-color);\n",
              "    height: 32px;\n",
              "    padding: 0;\n",
              "    width: 32px;\n",
              "  }\n",
              "\n",
              "  .colab-df-quickchart:hover {\n",
              "    background-color: var(--hover-bg-color);\n",
              "    box-shadow: 0 1px 2px rgba(60, 64, 67, 0.3), 0 1px 3px 1px rgba(60, 64, 67, 0.15);\n",
              "    fill: var(--button-hover-fill-color);\n",
              "  }\n",
              "\n",
              "  .colab-df-quickchart-complete:disabled,\n",
              "  .colab-df-quickchart-complete:disabled:hover {\n",
              "    background-color: var(--disabled-bg-color);\n",
              "    fill: var(--disabled-fill-color);\n",
              "    box-shadow: none;\n",
              "  }\n",
              "\n",
              "  .colab-df-spinner {\n",
              "    border: 2px solid var(--fill-color);\n",
              "    border-color: transparent;\n",
              "    border-bottom-color: var(--fill-color);\n",
              "    animation:\n",
              "      spin 1s steps(1) infinite;\n",
              "  }\n",
              "\n",
              "  @keyframes spin {\n",
              "    0% {\n",
              "      border-color: transparent;\n",
              "      border-bottom-color: var(--fill-color);\n",
              "      border-left-color: var(--fill-color);\n",
              "    }\n",
              "    20% {\n",
              "      border-color: transparent;\n",
              "      border-left-color: var(--fill-color);\n",
              "      border-top-color: var(--fill-color);\n",
              "    }\n",
              "    30% {\n",
              "      border-color: transparent;\n",
              "      border-left-color: var(--fill-color);\n",
              "      border-top-color: var(--fill-color);\n",
              "      border-right-color: var(--fill-color);\n",
              "    }\n",
              "    40% {\n",
              "      border-color: transparent;\n",
              "      border-right-color: var(--fill-color);\n",
              "      border-top-color: var(--fill-color);\n",
              "    }\n",
              "    60% {\n",
              "      border-color: transparent;\n",
              "      border-right-color: var(--fill-color);\n",
              "    }\n",
              "    80% {\n",
              "      border-color: transparent;\n",
              "      border-right-color: var(--fill-color);\n",
              "      border-bottom-color: var(--fill-color);\n",
              "    }\n",
              "    90% {\n",
              "      border-color: transparent;\n",
              "      border-bottom-color: var(--fill-color);\n",
              "    }\n",
              "  }\n",
              "</style>\n",
              "\n",
              "      <script>\n",
              "        async function quickchart(key) {\n",
              "          const quickchartButtonEl =\n",
              "            document.querySelector('#' + key + ' button');\n",
              "          quickchartButtonEl.disabled = true;  // To prevent multiple clicks.\n",
              "          quickchartButtonEl.classList.add('colab-df-spinner');\n",
              "          try {\n",
              "            const charts = await google.colab.kernel.invokeFunction(\n",
              "                'suggestCharts', [key], {});\n",
              "          } catch (error) {\n",
              "            console.error('Error during call to suggestCharts:', error);\n",
              "          }\n",
              "          quickchartButtonEl.classList.remove('colab-df-spinner');\n",
              "          quickchartButtonEl.classList.add('colab-df-quickchart-complete');\n",
              "        }\n",
              "        (() => {\n",
              "          let quickchartButtonEl =\n",
              "            document.querySelector('#df-ca5232f6-7e2f-4aa2-a800-06c8a1df891a button');\n",
              "          quickchartButtonEl.style.display =\n",
              "            google.colab.kernel.accessAllowed ? 'block' : 'none';\n",
              "        })();\n",
              "      </script>\n",
              "    </div>\n",
              "\n",
              "    </div>\n",
              "  </div>\n"
            ],
            "application/vnd.google.colaboratory.intrinsic+json": {
              "type": "dataframe",
              "variable_name": "Auto",
              "summary": "{\n  \"name\": \"Auto\",\n  \"rows\": 392,\n  \"fields\": [\n    {\n      \"column\": \"name\",\n      \"properties\": {\n        \"dtype\": \"string\",\n        \"num_unique_values\": 301,\n        \"samples\": [\n          \"subaru dl\",\n          \"buick century limited\",\n          \"plymouth horizon\"\n        ],\n        \"semantic_type\": \"\",\n        \"description\": \"\"\n      }\n    },\n    {\n      \"column\": \"mpg\",\n      \"properties\": {\n        \"dtype\": \"number\",\n        \"std\": 7.805007486571799,\n        \"min\": 9.0,\n        \"max\": 46.6,\n        \"num_unique_values\": 127,\n        \"samples\": [\n          17.5,\n          35.1,\n          28.8\n        ],\n        \"semantic_type\": \"\",\n        \"description\": \"\"\n      }\n    },\n    {\n      \"column\": \"cylinders\",\n      \"properties\": {\n        \"dtype\": \"number\",\n        \"std\": 1,\n        \"min\": 3,\n        \"max\": 8,\n        \"num_unique_values\": 5,\n        \"samples\": [\n          4,\n          5,\n          6\n        ],\n        \"semantic_type\": \"\",\n        \"description\": \"\"\n      }\n    },\n    {\n      \"column\": \"displacement\",\n      \"properties\": {\n        \"dtype\": \"number\",\n        \"std\": 104.64400390890465,\n        \"min\": 68.0,\n        \"max\": 455.0,\n        \"num_unique_values\": 81,\n        \"samples\": [\n          116.0,\n          307.0,\n          360.0\n        ],\n        \"semantic_type\": \"\",\n        \"description\": \"\"\n      }\n    },\n    {\n      \"column\": \"horsepower\",\n      \"properties\": {\n        \"dtype\": \"number\",\n        \"std\": 38,\n        \"min\": 46,\n        \"max\": 230,\n        \"num_unique_values\": 93,\n        \"samples\": [\n          92,\n          100,\n          52\n        ],\n        \"semantic_type\": \"\",\n        \"description\": \"\"\n      }\n    },\n    {\n      \"column\": \"weight\",\n      \"properties\": {\n        \"dtype\": \"number\",\n        \"std\": 849,\n        \"min\": 1613,\n        \"max\": 5140,\n        \"num_unique_values\": 346,\n        \"samples\": [\n          2472,\n          3221,\n          2700\n        ],\n        \"semantic_type\": \"\",\n        \"description\": \"\"\n      }\n    },\n    {\n      \"column\": \"acceleration\",\n      \"properties\": {\n        \"dtype\": \"number\",\n        \"std\": 2.7588641191880816,\n        \"min\": 8.0,\n        \"max\": 24.8,\n        \"num_unique_values\": 95,\n        \"samples\": [\n          14.7,\n          18.0,\n          14.3\n        ],\n        \"semantic_type\": \"\",\n        \"description\": \"\"\n      }\n    },\n    {\n      \"column\": \"year\",\n      \"properties\": {\n        \"dtype\": \"number\",\n        \"std\": 3,\n        \"min\": 70,\n        \"max\": 82,\n        \"num_unique_values\": 13,\n        \"samples\": [\n          81,\n          79,\n          70\n        ],\n        \"semantic_type\": \"\",\n        \"description\": \"\"\n      }\n    },\n    {\n      \"column\": \"origin\",\n      \"properties\": {\n        \"dtype\": \"number\",\n        \"std\": 0,\n        \"min\": 1,\n        \"max\": 3,\n        \"num_unique_values\": 3,\n        \"samples\": [\n          1,\n          3,\n          2\n        ],\n        \"semantic_type\": \"\",\n        \"description\": \"\"\n      }\n    }\n  ]\n}"
            }
          },
          "metadata": {},
          "execution_count": 5
        }
      ],
      "source": [
        "Auto.head()"
      ],
      "id": "xpCYU81KDVOY"
    },
    {
      "cell_type": "markdown",
      "metadata": {
        "id": "MBTX3NhIYtZn"
      },
      "source": [
        "我們使用函數 `train_test_split()` 將資料切分為訓練集與驗證集。由於有 392 個觀測值，我們使用參數 `test_size=196` 將其切分為兩個大小為 196 的相等集合。在執行包含隨機元素的操作時，設定隨機種子通常是個好主意，這樣獲得的結果可以在日後精確地重現。我們使用參數 `random_state` 為切分器設定隨機種子。"
      ],
      "id": "MBTX3NhIYtZn"
    },
    {
      "cell_type": "code",
      "metadata": {
        "id": "4XMaJ5qXDXJ1"
      },
      "execution_count": null,
      "outputs": [],
      "source": [
        "Auto_train, Auto_valid = train_test_split(Auto,\n",
        "                                         test_size=196,\n",
        "                                         random_state=rng)"
      ],
      "id": "4XMaJ5qXDXJ1"
    },
    {
      "cell_type": "markdown",
      "metadata": {
        "id": "e76383f0"
      },
      "source": [
        "現在我們可以僅使用對應於訓練集 `Auto_train` 的觀測值來擬合線性回歸。"
      ],
      "id": "e76383f0"
    },
    {
      "cell_type": "code",
      "metadata": {
        "execution": {},
        "id": "d9b0b7c8"
      },
      "execution_count": null,
      "outputs": [],
      "source": [
        "hp_mm = MS(['horsepower'])\n",
        "X_train = hp_mm.fit_transform(Auto_train)\n",
        "y_train = Auto_train['mpg']\n",
        "model = sm.OLS(y_train, X_train)\n",
        "results = model.fit()"
      ],
      "id": "d9b0b7c8"
    },
    {
      "cell_type": "markdown",
      "metadata": {
        "id": "d196dd08"
      },
      "source": [
        "現在我們使用 `results` 的 `predict()` 方法在使用驗證資料集創建的此模型的模型矩陣上進行評估。我們也計算我們模型的驗證 MSE。"
      ],
      "id": "d196dd08"
    },
    {
      "cell_type": "code",
      "metadata": {
        "execution": {},
        "id": "3e77d831",
        "outputId": "028b4826-a6ca-43ca-e6fc-563cc5850c20",
        "colab": {
          "base_uri": "https://localhost:8080/"
        }
      },
      "execution_count": null,
      "outputs": [
        {
          "output_type": "execute_result",
          "data": {
            "text/plain": [
              "np.float64(25.57387818968441)"
            ]
          },
          "metadata": {},
          "execution_count": 8
        }
      ],
      "source": [
        "X_valid = hp_mm.transform(Auto_valid)\n",
        "y_valid = Auto_valid['mpg']\n",
        "valid_pred = results.predict(X_valid)\n",
        "np.mean((y_valid - valid_pred)**2)"
      ],
      "id": "3e77d831"
    },
    {
      "cell_type": "markdown",
      "metadata": {
        "id": "2h7Ai-zDZcQ7"
      },
      "source": [
        "其他指標可以透過 [`scikit-learn.metrics`](https://scikit-learn.org/stable/modules/model_evaluation.html#regression-metrics) 獲得。"
      ],
      "id": "2h7Ai-zDZcQ7"
    },
    {
      "cell_type": "code",
      "metadata": {
        "colab": {
          "base_uri": "https://localhost:8080/"
        },
        "id": "zQTSZnwNDem0",
        "outputId": "9051ad47-e5a3-450a-a78f-eff5e2028094"
      },
      "execution_count": null,
      "outputs": [
        {
          "output_type": "stream",
          "name": "stdout",
          "text": [
            "The MAE is: 3.9907\n",
            "The MSE is: 25.574\n",
            "The RMSE is: 5.0571\n"
          ]
        }
      ],
      "source": [
        "print(\"The MAE is: {:.5}\".format(metrics.mean_absolute_error(y_valid, valid_pred)))  # (True, Predict)\n",
        "print(\"The MSE is: {:.5}\".format(metrics.mean_squared_error(y_valid, valid_pred)))\n",
        "print(\"The RMSE is: {:.5}\".format(np.sqrt( metrics.mean_squared_error(y_valid, valid_pred))))"
      ],
      "id": "zQTSZnwNDem0"
    },
    {
      "cell_type": "markdown",
      "metadata": {
        "id": "f4369ee6"
      },
      "source": [
        "因此我們對線性回歸擬合的驗證 MSE 估計為 $25.57$。\n",
        "\n",
        "我們也可以估計高次多項式回歸的驗證錯誤。我們首先提供一個函數 `evalMSE()`，它接受模型字串以及訓練集、測試集，並返回測試集上的 MSE。"
      ],
      "id": "f4369ee6"
    },
    {
      "cell_type": "code",
      "metadata": {
        "execution": {},
        "id": "0aa4bfcc"
      },
      "execution_count": null,
      "outputs": [],
      "source": [
        "def evalMSE(terms,\n",
        "            response,\n",
        "            train,\n",
        "            test):\n",
        "\n",
        "   mm = MS(terms)\n",
        "   X_train = mm.fit_transform(train)\n",
        "   y_train = train[response]\n",
        "\n",
        "   X_test = mm.transform(test)\n",
        "   y_test = test[response]\n",
        "\n",
        "   results = sm.OLS(y_train, X_train).fit()\n",
        "   test_pred = results.predict(X_test)\n",
        "\n",
        "   return np.mean((y_test - test_pred)**2)"
      ],
      "id": "0aa4bfcc"
    },
    {
      "cell_type": "markdown",
      "metadata": {
        "id": "0271dc50"
      },
      "source": [
        "讓我們使用此函數估計線性、二次和三次擬合的驗證 MSE。我們在這裡使用 `enumerate()` 函數，它在迭代 for 迴圈時同時提供值和索引物件。"
      ],
      "id": "0271dc50"
    },
    {
      "cell_type": "code",
      "metadata": {
        "execution": {},
        "id": "a0dbd55f",
        "outputId": "564bec50-cda6-44cd-ecee-73f6d345e5e8",
        "colab": {
          "base_uri": "https://localhost:8080/"
        }
      },
      "execution_count": null,
      "outputs": [
        {
          "output_type": "execute_result",
          "data": {
            "text/plain": [
              "array([25.57387819, 22.21802005, 22.66767544])"
            ]
          },
          "metadata": {},
          "execution_count": 11
        }
      ],
      "source": [
        "MSE = np.zeros(3)\n",
        "for idx, degree in enumerate(range(1, 4)):\n",
        "    MSE[idx] = evalMSE([poly('horsepower', degree)],\n",
        "                       'mpg',\n",
        "                       Auto_train,\n",
        "                       Auto_valid)\n",
        "MSE"
      ],
      "id": "a0dbd55f"
    },
    {
      "cell_type": "markdown",
      "metadata": {
        "id": "a7401536"
      },
      "source": [
        "這些錯誤率分別為 $25.57、22.22$ 和 $22.67$。如果我們選擇不同的訓練/驗證切分，那麼我們可以預期驗證集上會有略微不同的錯誤。"
      ],
      "id": "a7401536"
    },
    {
      "cell_type": "code",
      "metadata": {
        "execution": {},
        "id": "885136a4",
        "outputId": "711466fc-87c9-4434-84c6-76292ccb16c6",
        "colab": {
          "base_uri": "https://localhost:8080/"
        }
      },
      "execution_count": null,
      "outputs": [
        {
          "output_type": "execute_result",
          "data": {
            "text/plain": [
              "array([20.75540796, 16.94510676, 16.97437833])"
            ]
          },
          "metadata": {},
          "execution_count": 12
        }
      ],
      "source": [
        "Auto_train, Auto_valid = train_test_split(Auto,\n",
        "                                          test_size=196,\n",
        "                                          random_state=3)\n",
        "MSE = np.zeros(3)\n",
        "for idx, degree in enumerate(range(1, 4)):\n",
        "    MSE[idx] = evalMSE([poly('horsepower', degree)],\n",
        "                       'mpg',\n",
        "                       Auto_train,\n",
        "                       Auto_valid)\n",
        "MSE"
      ],
      "id": "885136a4"
    },
    {
      "cell_type": "markdown",
      "metadata": {
        "id": "00785402"
      },
      "source": [
        "使用這種觀測值切分為訓練集與驗證集的方式，我們發現線性、二次和三次項模型的驗證集錯誤率分別為 $20.76、16.95$ 和 $16.97$。\n",
        "\n",
        "這些結果與我們之前的發現一致：使用 `horsepower` 的二次函數來預測 `mpg` 的模型，比僅涉及 `horsepower` 線性函數的模型表現更好，並且沒有證據顯示使用 `horsepower` 的三次函數能帶來改善。"
      ],
      "id": "00785402"
    },
    {
      "cell_type": "markdown",
      "metadata": {
        "id": "l4afj5M9EJfG"
      },
      "source": [
        "## Cross-Validation（交叉驗證）"
      ],
      "id": "l4afj5M9EJfG"
    },
    {
      "cell_type": "markdown",
      "metadata": {
        "id": "21c071b8"
      },
      "source": [
        "理論上，cross-validation（交叉驗證）估計可以針對任何廣義線性模型進行計算。然而在實務上，在 Python 中進行交叉驗證的最簡單方式是使用 `scikit-learn`，然而它具有與我們一直用來擬合 GLM 的 `statsmodels` 不同的介面或 API!\n",
        "\n",
        "這是資料科學家經常面臨的問題：「我有一個執行任務 A 的函數，需要將其輸入到執行任務 B 的東西中，這樣我就可以計算 B(A(D))，其中 D 是我的資料。」當 A 和 B 無法自然地相互溝通時，這就需要使用 *wrapper*。\n",
        "**在 `ISLP` 套件中，我們提供了一個 wrapper，`sklearn_sm()`，讓我們能夠輕鬆地將 `scikit-learn` 的交叉驗證工具與 `statsmodels` 擬合的模型一起使用。**\n",
        "\n",
        "類別 [`sklearn_sm()`](https://islp.readthedocs.io/en/latest/api/generated/ISLP.models.sklearn_wrap.html#sklearn-sm) 的第一個參數是來自 `statsmodels` 的模型。它可以接受兩個額外的可選參數：`model_str` 可用來指定公式，而 `model_args` 是在擬合模型時使用的額外參數字典。例如，擬合 logistic 回歸模型時，我們必須指定一個 `family` 參數。這會以 `model_args={'family':sm.families.Binomial()}` 的方式傳遞。\n",
        "\n",
        "以下是我們的 wrapper 實際運作情況："
      ],
      "id": "21c071b8"
    },
    {
      "cell_type": "code",
      "metadata": {
        "execution": {},
        "lines_to_next_cell": 0,
        "id": "6d957d8c",
        "outputId": "63d65326-2331-476b-dc07-a41538f8e6a8",
        "colab": {
          "base_uri": "https://localhost:8080/"
        }
      },
      "execution_count": null,
      "outputs": [
        {
          "output_type": "execute_result",
          "data": {
            "text/plain": [
              "np.float64(24.23151351792922)"
            ]
          },
          "metadata": {},
          "execution_count": 13
        }
      ],
      "source": [
        "hp_model = sklearn_sm(sm.OLS,\n",
        "                      MS(['horsepower']))\n",
        "X, Y = Auto.drop(columns=['mpg']), Auto['mpg']\n",
        "\n",
        "\n",
        "\n",
        "# 交叉驗證迭代器\n",
        "cv = LeaveOneOut()\n",
        "cv_results = cross_validate(hp_model,\n",
        "                            X,\n",
        "                            Y,\n",
        "                            cv=cv\n",
        "                            )\n",
        "cv_err = np.mean(cv_results['test_score'])\n",
        "cv_err"
      ],
      "id": "6d957d8c"
    },
    {
      "cell_type": "markdown",
      "metadata": {
        "id": "0SJH3ye0ZgTX"
      },
      "source": [
        "我們也可以如下使用來自 `scikit-learn` 的估計器："
      ],
      "id": "0SJH3ye0ZgTX"
    },
    {
      "cell_type": "code",
      "metadata": {
        "colab": {
          "base_uri": "https://localhost:8080/"
        },
        "id": "8mHQJRlLU1wz",
        "outputId": "b879d922-c6fd-4646-9d16-420077f551e9"
      },
      "execution_count": null,
      "outputs": [
        {
          "output_type": "execute_result",
          "data": {
            "text/plain": [
              "np.float64(24.231513517929226)"
            ]
          },
          "metadata": {},
          "execution_count": 14
        }
      ],
      "source": [
        "reg = LinearRegression()\n",
        "\n",
        "# Use MSE as the scoring metric\n",
        "scoring = metrics.make_scorer(metrics.mean_squared_error)\n",
        "# Cross validation iterators\n",
        "cv = LeaveOneOut()\n",
        "cv_results = cross_validate(reg,\n",
        "                            X.horsepower.to_numpy().reshape(-1,1),\n",
        "                            Y.to_numpy(),\n",
        "                            scoring=scoring,\n",
        "                            cv=cv\n",
        "                            )\n",
        "cv_err = np.mean(cv_results['test_score'])\n",
        "cv_err"
      ],
      "id": "8mHQJRlLU1wz"
    },
    {
      "cell_type": "markdown",
      "metadata": {
        "id": "c17e2bc8"
      },
      "source": [
        "`cross_validate()` 的參數如下：一個具有適當 `fit()`、`predict()` 和 `score()` 方法的物件，一個特徵陣列 `X` 和一個回應變數 `Y`。我們也在 `cross_validate()` 中包含了額外參數 `cv`；指定整數 $K$ 會導致 $K$-fold cross-validation（交叉驗證）。若我們提供了對應總樣本數的值，則會產生**留一法交叉驗證 (LOOCV)**。`cross_validate()` 函數會產生一個包含多個組件的*字典*；我們這裡只需要交叉驗證的測試分數 (MSE)，其估計值為 24.23。"
      ],
      "id": "c17e2bc8"
    },
    {
      "cell_type": "markdown",
      "metadata": {
        "id": "5c7901f2"
      },
      "source": [
        "我們可以對越來越複雜的多項式擬合重複此程序。為了自動化這個過程，我們再次使用 for 迴圈，它會迭代地擬合 1 到 5 次的多項式回歸，計算相關的交叉驗證錯誤，並將其儲存在向量 `cv_error` 的第 $i$ 個元素中。for 迴圈中的變數 `d` 對應多項式的次數。我們從初始化向量開始。此指令可能需要幾秒鐘來執行。"
      ],
      "id": "5c7901f2"
    },
    {
      "cell_type": "code",
      "metadata": {
        "execution": {},
        "lines_to_next_cell": 0,
        "id": "e2b5ce95"
      },
      "execution_count": null,
      "outputs": [],
      "source": [
        "cv_error = np.zeros(5)\n",
        "H = np.array(Auto['horsepower'])\n",
        "M = sklearn_sm(sm.OLS)\n",
        "cv = LeaveOneOut()\n",
        "\n",
        "\n",
        "for i, d in enumerate(trange(1,6)):\n",
        "    X = np.power.outer(H, np.arange(d+1))\n",
        "    # You can also use the PolynomialFeatures from sklearn\n",
        "    # poly = PolynomialFeatures(d, include_bias=True) #ModelSpec will add const, here we do not use ModelSpec, so we need to add const\n",
        "    # X = poly.fit_transform(H.reshape(-1, 1))\n",
        "    M_CV = cross_validate(M,\n",
        "                          X,\n",
        "                          Y,\n",
        "                          cv=cv)\n",
        "    cv_error[i] = np.mean(M_CV['test_score'])\n",
        "cv_error"
      ],
      "id": "e2b5ce95"
    },
    {
      "cell_type": "markdown",
      "metadata": {
        "id": "03706248"
      },
      "source": [
        "如圖 5.4 所示，我們看到線性擬合與二次擬合之間的估計測試 MSE 大幅下降，但使用更高次多項式並沒有明顯的改善。\n",
        "\n",
        "上面我們介紹了 `np.power()` 函數的 `outer()` 方法。`outer()` 方法適用於具有兩個參數的運算，如 `add()`、`min()` 或 `power()`。它以兩個陣列作為參數，然後形成一個更大的陣列，其中運算會應用於兩個陣列元素的每一對。"
      ],
      "id": "03706248"
    },
    {
      "cell_type": "code",
      "metadata": {
        "colab": {
          "base_uri": "https://localhost:8080/"
        },
        "id": "tcQW9m5_dKss",
        "outputId": "297a3dd9-ff67-413c-9424-ede6ff6beb40"
      },
      "execution_count": null,
      "outputs": [
        {
          "output_type": "execute_result",
          "data": {
            "text/plain": [
              "array([[   9,   81],\n",
              "       [  25,  625],\n",
              "       [  81, 6561]])"
            ]
          },
          "metadata": {},
          "execution_count": 16
        }
      ],
      "source": [
        "A = np.array([3, 5, 9])\n",
        "B = np.array([2, 4])\n",
        "np.power.outer(A, B)"
      ],
      "id": "tcQW9m5_dKss"
    },
    {
      "cell_type": "markdown",
      "metadata": {
        "id": "f5092f1b"
      },
      "source": [
        "在上面的 CV 範例中，我們使用了 $K=n$，但當然我們也可以使用 $K<n$。程式碼與上面非常相似（而且速度快很多）。這裡我們使用 `KFold()` 將資料分割為 $K=10$ 個隨機群組。我們使用 `random_state` 設定隨機種子，並初始化一個向量 `cv_error`，我們將在其中儲存對應於 1 到 5 次多項式擬合的 CV 錯誤。注意：傳遞整數給 CV 切分器通常更安全且涵蓋大多數使用情況。"
      ],
      "id": "f5092f1b"
    },
    {
      "cell_type": "code",
      "metadata": {
        "execution": {},
        "lines_to_next_cell": 0,
        "id": "fb25fa70"
      },
      "execution_count": null,
      "outputs": [],
      "source": [
        "cv_error = np.zeros(5)\n",
        "cv = KFold(n_splits=10,\n",
        "           shuffle=True,\n",
        "           random_state=0) # use same splits for each degree not rng here, see https://scikit-learn.org/stable/common_pitfalls.html#robustness-of-cross-validation-results\n",
        "for i, d in enumerate(trange(1,6)):\n",
        "    X = np.power.outer(H, np.arange(d+1))\n",
        "    M_CV = cross_validate(M,\n",
        "                          X,\n",
        "                          Y,\n",
        "                          cv=cv)\n",
        "    cv_error[i] = np.mean(M_CV['test_score'])\n",
        "cv_error"
      ],
      "id": "fb25fa70"
    },
    {
      "cell_type": "markdown",
      "metadata": {
        "id": "c4ec6afb"
      },
      "source": [
        "注意計算時間比 LOOCV 短得多。（原則上，對於最小平方線性模型，LOOCV 的計算時間應該比 $K$-fold CV 快，這是由於 LOOCV 有公式 (5.2) 可用；然而，通用的 `cross_validate()` 函數並沒有使用此公式。）我們仍然看不到什麼證據顯示使用三次或更高次的多項式項會比單純使用二次擬合帶來更低的測試錯誤。"
      ],
      "id": "c4ec6afb"
    },
    {
      "cell_type": "markdown",
      "metadata": {
        "id": "5edf407f"
      },
      "source": [
        "`cross_validate()` 函數很靈活，可以接受不同的切分機制作為參數。例如，使用 `ShuffleSplit()` 函數實作驗證集方法就像 K-fold cross-validation（交叉驗證）一樣容易。"
      ],
      "id": "5edf407f"
    },
    {
      "cell_type": "code",
      "metadata": {
        "execution": {},
        "lines_to_next_cell": 2,
        "id": "d78795cd",
        "outputId": "60c39175-db13-49c0-8c38-7aa51d633656",
        "colab": {
          "base_uri": "https://localhost:8080/"
        }
      },
      "execution_count": null,
      "outputs": [
        {
          "output_type": "execute_result",
          "data": {
            "text/plain": [
              "array([23.61661707])"
            ]
          },
          "metadata": {},
          "execution_count": 18
        }
      ],
      "source": [
        "validation = ShuffleSplit(n_splits=1,\n",
        "                          test_size=196,\n",
        "                          random_state=0)\n",
        "results = cross_validate(hp_model,\n",
        "                         Auto.drop(['mpg'], axis=1),\n",
        "                         Auto['mpg'],\n",
        "                         cv=validation);\n",
        "results['test_score']"
      ],
      "id": "d78795cd"
    },
    {
      "cell_type": "markdown",
      "metadata": {
        "id": "a081be63"
      },
      "source": [
        "可以透過執行以下程式碼來估計測試錯誤的變異性："
      ],
      "id": "a081be63"
    },
    {
      "cell_type": "code",
      "metadata": {
        "execution": {},
        "id": "0407ad56",
        "outputId": "d058a772-e2cb-4561-c03a-39af0655faea",
        "colab": {
          "base_uri": "https://localhost:8080/"
        }
      },
      "execution_count": null,
      "outputs": [
        {
          "output_type": "execute_result",
          "data": {
            "text/plain": [
              "(np.float64(23.802232661034168), np.float64(1.4218450941091842))"
            ]
          },
          "metadata": {},
          "execution_count": 19
        }
      ],
      "source": [
        "validation = ShuffleSplit(n_splits=10,\n",
        "                          test_size=196,\n",
        "                          random_state=0)\n",
        "results = cross_validate(hp_model,\n",
        "                         Auto.drop(['mpg'], axis=1),\n",
        "                         Auto['mpg'],\n",
        "                         cv=validation)\n",
        "results['test_score'].mean(), results['test_score'].std()"
      ],
      "id": "0407ad56"
    },
    {
      "cell_type": "markdown",
      "metadata": {
        "id": "b66db3cb"
      },
      "source": [
        "注意：這個標準差並不是平均測試分數或個別分數之抽樣變異性的有效估計，因為隨機選取的訓練樣本會重疊，因此引入了相關性。但它確實能讓我們了解選擇不同隨機分割時所產生的 Monte Carlo 變異。"
      ],
      "id": "b66db3cb"
    },
    {
      "cell_type": "markdown",
      "metadata": {
        "id": "jJ21wBo0daar"
      },
      "source": [
        "有關在 `scikit-learn` 中使用交叉驗證的更多資訊，請參閱 [https://scikit-learn.org/stable/modules/cross_validation.html](https://scikit-learn.org/stable/modules/cross_validation.html)。"
      ],
      "id": "jJ21wBo0daar"
    },
    {
      "cell_type": "markdown",
      "metadata": {
        "id": "limcBdW0FDpW"
      },
      "source": [
        "## The Bootstrap\n"
      ],
      "id": "limcBdW0FDpW"
    },
    {
      "cell_type": "markdown",
      "metadata": {
        "id": "lYJoiUOnFFNu"
      },
      "source": [
        "我們用第 5.2 節的簡單範例以及涉及估計 `Auto` 資料集上線性回歸模型準確率的範例來說明 bootstrap 的使用。"
      ],
      "id": "lYJoiUOnFFNu"
    },
    {
      "cell_type": "markdown",
      "metadata": {
        "id": "q1ZVznuTFGn_"
      },
      "source": [
        "### 估計感興趣統計量的準確率"
      ],
      "id": "q1ZVznuTFGn_"
    },
    {
      "cell_type": "markdown",
      "metadata": {
        "id": "SqqG8w7MFH_3"
      },
      "source": [
        "Bootstrap 方法的一個巨大優勢是它幾乎可以應用於所有情況。不需要複雜的數學計算。雖然 Python 中有數個 bootstrap 的實作，但它用於估計標準誤差的使用簡單到我們可以為資料儲存在 dataframe 的情況自己寫一個函數。\n",
        "\n",
        "為了說明 bootstrap，我們從簡單的範例開始。`ISLP` 套件中的 [`Portfolio`](https://islp.readthedocs.io/en/latest/datasets/Portfolio.html) 資料集在第 5.2 節中有描述。目標是估計公式 (5.7) 中給定的參數 $\\alpha$ 的抽樣變異數。我們將建立函數 `alpha_func()`，它接受一個假設有 `X` 和 `Y` 欄位的 dataframe `D` 作為輸入，以及一個指示應該使用哪些觀測值來估計 $\\alpha$ 的向量 `idx`。然後該函數根據選取的觀測值輸出 $\\alpha$ 的估計。"
      ],
      "id": "SqqG8w7MFH_3"
    },
    {
      "cell_type": "code",
      "metadata": {
        "execution": {},
        "lines_to_next_cell": 0,
        "id": "f04f15bd"
      },
      "execution_count": null,
      "outputs": [],
      "source": [
        "Portfolio = load_data('Portfolio')\n",
        "def alpha_func(D, idx):\n",
        "   cov_ = np.cov(D[['X','Y']].loc[idx], rowvar=False)\n",
        "   return ((cov_[1,1] - cov_[0,1]) /\n",
        "           (cov_[0,0]+cov_[1,1]-2*cov_[0,1]))"
      ],
      "id": "f04f15bd"
    },
    {
      "cell_type": "markdown",
      "metadata": {
        "id": "c88bd6a4"
      },
      "source": [
        "此函數根據將最小變異數公式 (5.7) 應用於由參數 `idx` 索引的觀測值，返回 $\\alpha$ 的估計。例如，以下指令使用全部 100 個觀測值來估計 $\\alpha$。"
      ],
      "id": "c88bd6a4"
    },
    {
      "cell_type": "code",
      "metadata": {
        "execution": {},
        "id": "f98c0323",
        "outputId": "d25fc01b-9713-45d3-ee95-c30f84760f75",
        "colab": {
          "base_uri": "https://localhost:8080/"
        }
      },
      "execution_count": null,
      "outputs": [
        {
          "output_type": "execute_result",
          "data": {
            "text/plain": [
              "np.float64(0.57583207459283)"
            ]
          },
          "metadata": {},
          "execution_count": 21
        }
      ],
      "source": [
        "alpha_func(Portfolio, range(100))"
      ],
      "id": "f98c0323"
    },
    {
      "cell_type": "markdown",
      "metadata": {
        "id": "58a78f00"
      },
      "source": [
        "接下來我們從 `range(100)` 中有放回地隨機選取 100 個觀測值。這等同於建構新的 bootstrap 資料集，並基於新資料集重新計算 $\\hat{\\alpha}$。"
      ],
      "id": "58a78f00"
    },
    {
      "cell_type": "code",
      "metadata": {
        "execution": {},
        "lines_to_next_cell": 2,
        "id": "bcd40175",
        "outputId": "34eb533f-f758-4bea-8fa8-b80186c48738",
        "colab": {
          "base_uri": "https://localhost:8080/"
        }
      },
      "execution_count": null,
      "outputs": [
        {
          "output_type": "execute_result",
          "data": {
            "text/plain": [
              "np.float64(0.6074452469619004)"
            ]
          },
          "metadata": {},
          "execution_count": 22
        }
      ],
      "source": [
        "rng = np.random.default_rng(0)\n",
        "alpha_func(Portfolio,\n",
        "           rng.choice(100,\n",
        "                      100,\n",
        "                      replace=True))"
      ],
      "id": "bcd40175"
    },
    {
      "cell_type": "markdown",
      "metadata": {
        "id": "e6058be4"
      },
      "source": [
        "此過程可以一般化，建立一個簡單的函數 `boot_SE()` 來計算任意僅以資料框架為參數的函數的 bootstrap 標準誤差。"
      ],
      "id": "e6058be4"
    },
    {
      "cell_type": "code",
      "metadata": {
        "execution": {},
        "lines_to_next_cell": 0,
        "id": "ab6602cd"
      },
      "execution_count": null,
      "outputs": [],
      "source": [
        "def boot_SE(func,\n",
        "            D,\n",
        "            n=None,\n",
        "            B=1000,\n",
        "            seed=0):\n",
        "    rng = np.random.default_rng(seed)\n",
        "    first_, second_ = 0, 0\n",
        "    n = n or D.shape[0]\n",
        "    for _ in trange(B):\n",
        "        idx = rng.choice(D.index,\n",
        "                         n,\n",
        "                         replace=True)\n",
        "        value = func(D, idx)\n",
        "        first_ += value\n",
        "        second_ += value**2\n",
        "    return np.sqrt(second_ / B - (first_ / B)**2)"
      ],
      "id": "ab6602cd"
    },
    {
      "cell_type": "markdown",
      "metadata": {
        "id": "d94d383e"
      },
      "source": [
        "注意在 `for _ in range(B)` 中使用 `_` 作為迴圈變數。當計數器的值不重要且只是要確保迴圈執行 `B` 次時，經常使用這種方式。\n",
        "\n",
        "讓我們使用函數來評估使用 $B=1{,}000$ bootstrap 複製的 $\\alpha$ 估計的準確率。"
      ],
      "id": "d94d383e"
    },
    {
      "cell_type": "code",
      "metadata": {
        "execution": {},
        "id": "4a323513"
      },
      "execution_count": null,
      "outputs": [],
      "source": [
        "alpha_SE = boot_SE(alpha_func,\n",
        "                   Portfolio,\n",
        "                   B=1000,\n",
        "                   seed=0)\n",
        "alpha_SE"
      ],
      "id": "4a323513"
    },
    {
      "cell_type": "markdown",
      "metadata": {
        "id": "22343f53"
      },
      "source": [
        "最終輸出顯示 ${\\rm SE}(\\hat{\\alpha})$ 的 bootstrap 估計為 $0.0912$。"
      ],
      "id": "22343f53"
    },
    {
      "cell_type": "markdown",
      "metadata": {
        "id": "3BX2VLqeFZZP"
      },
      "source": [
        "### 估計線性回歸模型的準確率"
      ],
      "id": "3BX2VLqeFZZP"
    },
    {
      "cell_type": "markdown",
      "metadata": {
        "id": "DljSq9n9FbFv"
      },
      "source": [
        "Bootstrap 方法可以用來評估來自統計學習方法的係數估計和預測的變異性。這裡我們使用 bootstrap 方法來評估線性回歸模型中 $\\beta_0$ 和 $\\beta_1$（截距項和斜率項）的變異性估計，該模型使用 `horsepower` 來預測 `Auto` 資料集中的 `mpg`。我們將比較使用 bootstrap 獲得的估計與使用第 3.1.2 節中描述的 ${\\rm SE}(\\hat{\\beta}_0)$ 和 ${\\rm SE}(\\hat{\\beta}_1)$ 公式獲得的估計。\n",
        "\n",
        "要使用我們的 `boot_SE()` 函數，我們必須寫一個函數（作為其第一個參數），該函數僅以資料框架 `D` 和索引 `idx` 作為參數。但這裡我們想要 bootstrap 特定的回歸模型，由模型公式和資料指定。我們將展示如何用幾個簡單步驟來做到這一點。\n",
        "\n",
        "我們首先寫一個通用函數 `boot_OLS()` 來 bootstrap 回歸模型，該函數接受一個公式來定義對應的回歸。我們使用 `clone()` 函數來複製可以在新資料框架上重新擬合的公式。這意味著任何衍生特徵，如 `poly()` 定義的特徵（我們很快就會看到），將在重新抽樣的資料框架上重新擬合。"
      ],
      "id": "DljSq9n9FbFv"
    },
    {
      "cell_type": "code",
      "metadata": {
        "execution": {},
        "lines_to_next_cell": 0,
        "id": "0220f3af"
      },
      "execution_count": null,
      "outputs": [],
      "source": [
        "def boot_OLS(model_matrix, response, D, idx):\n",
        "    # 為了方便檢查，先確保 idx 是一個 NumPy array\n",
        "    idx = np.asarray(idx)\n",
        "\n",
        "    # 檢查 idx 的資料類型 (dtype) 是否為整數類型\n",
        "    if np.issubdtype(idx.dtype, np.integer):\n",
        "        # 如果是整數，代表是位置 (position)，使用 .iloc\n",
        "        D_ = D.iloc[idx]\n",
        "    else:\n",
        "        # 否則，代表是標籤 (label)，使用 .loc\n",
        "        D_ = D.loc[idx]\n",
        "\n",
        "    Y_ = D_[response]\n",
        "    X_ = clone(model_matrix).fit_transform(D_)\n",
        "    return sm.OLS(Y_, X_).fit().params"
      ],
      "id": "0220f3af"
    },
    {
      "cell_type": "markdown",
      "metadata": {
        "id": "df0c7f05"
      },
      "source": [
        "這還不完全是 `boot_SE()` 的第一個參數所需要的。指定模型的前兩個參數在 bootstrap 過程中不會改變，我們希望*凍結*它們。`functools` 模組中的函數 `partial()` 正好做這件事：它接受一個函數作為參數，並從左邊開始凍結其部分參數。我們用它來凍結 `boot_OLS()` 的前兩個模型公式參數。"
      ],
      "id": "df0c7f05"
    },
    {
      "cell_type": "code",
      "metadata": {
        "execution": {},
        "lines_to_next_cell": 0,
        "id": "62037dcb"
      },
      "execution_count": null,
      "outputs": [],
      "source": [
        "hp_func = partial(boot_OLS, MS(['horsepower']), 'mpg')"
      ],
      "id": "62037dcb"
    },
    {
      "cell_type": "markdown",
      "metadata": {
        "id": "61fbe248"
      },
      "source": [
        "輸入 `hp_func?` 會顯示它有兩個參數 `D` 和 `idx` --- 它是凍結了前兩個參數的 `boot_OLS()` 版本 --- 因此是 `boot_SE()` 第一個參數的理想選擇。\n",
        "\n",
        "現在可以使用 `hp_func()` 函數，透過從觀測值中有放回地隨機抽樣來建立截距項和斜率項的 bootstrap 估計。我們首先在 10 個 bootstrap 樣本上展示其用途。"
      ],
      "id": "61fbe248"
    },
    {
      "cell_type": "code",
      "metadata": {
        "execution": {},
        "lines_to_next_cell": 0,
        "id": "b8bdb7a4",
        "outputId": "5cf7e6da-cc1b-44b7-a5fa-fc577aea5c9c",
        "colab": {
          "base_uri": "https://localhost:8080/"
        }
      },
      "execution_count": null,
      "outputs": [
        {
          "output_type": "execute_result",
          "data": {
            "text/plain": [
              "array([[39.88064456, -0.1567849 ],\n",
              "       [38.73298691, -0.14699495],\n",
              "       [38.31734657, -0.14442683],\n",
              "       [39.91446826, -0.15782234],\n",
              "       [39.43349349, -0.15072702],\n",
              "       [40.36629857, -0.15912217],\n",
              "       [39.62334517, -0.15449117],\n",
              "       [39.0580588 , -0.14952908],\n",
              "       [38.66688437, -0.14521037],\n",
              "       [39.64280792, -0.15555698]])"
            ]
          },
          "metadata": {},
          "execution_count": 51
        }
      ],
      "source": [
        "rng = np.random.default_rng(0)\n",
        "np.array([hp_func(Auto,\n",
        "          rng.choice(392,\n",
        "                     392,\n",
        "                     replace=True)) for _ in range(10)])"
      ],
      "id": "b8bdb7a4"
    },
    {
      "cell_type": "markdown",
      "metadata": {
        "id": "2a831036"
      },
      "source": [
        "接著我們使用 `boot_SE()` 函數來計算 1,000 個 bootstrap 估計的截距項和斜率項標準誤差。"
      ],
      "id": "2a831036"
    },
    {
      "cell_type": "code",
      "metadata": {
        "execution": {},
        "lines_to_next_cell": 2,
        "id": "36808258"
      },
      "execution_count": null,
      "outputs": [],
      "source": [
        "hp_se = boot_SE(hp_func,\n",
        "                Auto,\n",
        "                B=1000,\n",
        "                seed=10)\n",
        "hp_se"
      ],
      "id": "36808258"
    },
    {
      "cell_type": "markdown",
      "metadata": {
        "id": "38c65fbf"
      },
      "source": [
        "這表示 ${\\rm SE}(\\hat{\\beta}_0)$ 的 bootstrap 估計為 0.73，而 ${\\rm SE}(\\hat{\\beta}_1)$ 的 bootstrap 估計為 0.00609。如第 3.1.2 節所討論的，標準公式可以用來計算線性模型中回歸係數的標準誤差。這些可以使用 `ISLP.models` 中的 `summarize()` 函數獲得。"
      ],
      "id": "38c65fbf"
    },
    {
      "cell_type": "code",
      "metadata": {
        "execution": {},
        "lines_to_next_cell": 2,
        "id": "c9aea297",
        "outputId": "1ca40781-e394-4eff-feb5-777fbd0120e3",
        "colab": {
          "base_uri": "https://localhost:8080/",
          "height": 147
        }
      },
      "execution_count": null,
      "outputs": [
        {
          "output_type": "execute_result",
          "data": {
            "text/plain": [
              "intercept     0.717\n",
              "horsepower    0.006\n",
              "Name: std err, dtype: float64"
            ],
            "text/html": [
              "<div>\n",
              "<style scoped>\n",
              "    .dataframe tbody tr th:only-of-type {\n",
              "        vertical-align: middle;\n",
              "    }\n",
              "\n",
              "    .dataframe tbody tr th {\n",
              "        vertical-align: top;\n",
              "    }\n",
              "\n",
              "    .dataframe thead th {\n",
              "        text-align: right;\n",
              "    }\n",
              "</style>\n",
              "<table border=\"1\" class=\"dataframe\">\n",
              "  <thead>\n",
              "    <tr style=\"text-align: right;\">\n",
              "      <th></th>\n",
              "      <th>std err</th>\n",
              "    </tr>\n",
              "  </thead>\n",
              "  <tbody>\n",
              "    <tr>\n",
              "      <th>intercept</th>\n",
              "      <td>0.717</td>\n",
              "    </tr>\n",
              "    <tr>\n",
              "      <th>horsepower</th>\n",
              "      <td>0.006</td>\n",
              "    </tr>\n",
              "  </tbody>\n",
              "</table>\n",
              "</div><br><label><b>dtype:</b> float64</label>"
            ]
          },
          "metadata": {},
          "execution_count": 53
        }
      ],
      "source": [
        "hp_model.fit(Auto, Auto['mpg'])\n",
        "model_se = summarize(hp_model.results_)['std err']\n",
        "model_se"
      ],
      "id": "c9aea297"
    },
    {
      "cell_type": "markdown",
      "metadata": {
        "id": "d870ad6b"
      },
      "source": [
        "使用第 3.1.2 節公式獲得的 $\\hat{\\beta}_0$ 和 $\\hat{\\beta}_1$ 標準誤差估計，截距項為 0.717，斜率為 0.006。有趣的是，這些與使用 bootstrap 獲得的估計有些不同。這是否表示 bootstrap 有問題？事實上，它暗示的是相反的。回想第 82 頁方程式 3.8 中給出的標準公式依賴於某些假設。例如，它們依賴於未知參數 $\\sigma^2$（雜訊變異數）。然後我們使用 RSS 來估計 $\\sigma^2$。現在，雖然標準誤差的公式不依賴於線性模型的正確性，但 $\\sigma^2$ 的估計確實如此。我們在第 108 頁的圖 3.8 中看到資料中存在非線性關係，因此來自線性擬合的殘差會被誇大，$\\hat{\\sigma}^2$ 也會如此。其次，標準公式假設（有些不現實地）$x_i$ 是固定的，所有變異性都來自誤差 $\\epsilon_i$ 的變化。Bootstrap 方法不依賴於任何這些假設，因此它可能比來自 `sm.OLS` 的結果給出 $\\hat{\\beta}_0$ 和 $\\hat{\\beta}_1$ 標準誤差的更準確估計。\n",
        "\n",
        "下面我們計算 bootstrap 標準誤差估計以及擬合二次模型資料所產生的標準線性回歸估計。由於此模型對資料提供良好的擬合（圖 3.8），現在 bootstrap 估計與 ${\\rm SE}(\\hat{\\beta}_0)$、${\\rm SE}(\\hat{\\beta}_1)$ 和 ${\\rm SE}(\\hat{\\beta}_2)$ 的標準估計之間有更好的對應關係。"
      ],
      "id": "d870ad6b"
    },
    {
      "cell_type": "code",
      "metadata": {
        "execution": {},
        "id": "79c56529"
      },
      "execution_count": null,
      "outputs": [],
      "source": [
        "quad_model = MS([poly('horsepower', 2, raw=True)])\n",
        "quad_func = partial(boot_OLS,\n",
        "                    quad_model,\n",
        "                    'mpg')\n",
        "boot_SE(quad_func, Auto, B=1000)"
      ],
      "id": "79c56529"
    },
    {
      "cell_type": "markdown",
      "metadata": {
        "id": "9fccbbbd"
      },
      "source": [
        "我們將結果與使用 `sm.OLS()` 計算的標準誤差進行比較。"
      ],
      "id": "9fccbbbd"
    },
    {
      "cell_type": "code",
      "metadata": {
        "execution": {},
        "lines_to_next_cell": 0,
        "id": "4d0b4edc",
        "outputId": "efe81ef7-36c3-4f8e-81a4-94021ca61d37",
        "colab": {
          "base_uri": "https://localhost:8080/",
          "height": 178
        }
      },
      "execution_count": null,
      "outputs": [
        {
          "output_type": "execute_result",
          "data": {
            "text/plain": [
              "intercept                                  1.800\n",
              "poly(horsepower, degree=2, raw=True)[0]    0.031\n",
              "poly(horsepower, degree=2, raw=True)[1]    0.000\n",
              "Name: std err, dtype: float64"
            ],
            "text/html": [
              "<div>\n",
              "<style scoped>\n",
              "    .dataframe tbody tr th:only-of-type {\n",
              "        vertical-align: middle;\n",
              "    }\n",
              "\n",
              "    .dataframe tbody tr th {\n",
              "        vertical-align: top;\n",
              "    }\n",
              "\n",
              "    .dataframe thead th {\n",
              "        text-align: right;\n",
              "    }\n",
              "</style>\n",
              "<table border=\"1\" class=\"dataframe\">\n",
              "  <thead>\n",
              "    <tr style=\"text-align: right;\">\n",
              "      <th></th>\n",
              "      <th>std err</th>\n",
              "    </tr>\n",
              "  </thead>\n",
              "  <tbody>\n",
              "    <tr>\n",
              "      <th>intercept</th>\n",
              "      <td>1.800</td>\n",
              "    </tr>\n",
              "    <tr>\n",
              "      <th>poly(horsepower, degree=2, raw=True)[0]</th>\n",
              "      <td>0.031</td>\n",
              "    </tr>\n",
              "    <tr>\n",
              "      <th>poly(horsepower, degree=2, raw=True)[1]</th>\n",
              "      <td>0.000</td>\n",
              "    </tr>\n",
              "  </tbody>\n",
              "</table>\n",
              "</div><br><label><b>dtype:</b> float64</label>"
            ]
          },
          "metadata": {},
          "execution_count": 55
        }
      ],
      "source": [
        "M = sm.OLS(Auto['mpg'],\n",
        "           quad_model.fit_transform(Auto))\n",
        "summarize(M.fit())['std err']"
      ],
      "id": "4d0b4edc"
    }
  ],
  "metadata": {
    "jupytext": {
      "cell_metadata_filter": "-all",
      "formats": "Rmd,ipynb",
      "main_language": "python"
    },
    "language_info": {
      "name": "python"
    },
    "colab": {
      "provenance": [],
      "toc_visible": true
    },
    "kernelspec": {
      "name": "python3",
      "display_name": "Python 3"
    }
  },
  "nbformat": 4,
  "nbformat_minor": 5
}