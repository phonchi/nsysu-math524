{
 "cells": [
  {
   "cell_type": "markdown",
   "id": "f8d1ddeb",
   "metadata": {},
   "source": [
    "# Statistical learning and data mining Assignment 1 "
   ]
  },
  {
   "cell_type": "markdown",
   "id": "20a261aa",
   "metadata": {},
   "source": [
    "#### Name : \n",
    "#### Student ID :"
   ]
  },
  {
   "cell_type": "markdown",
   "id": "b807d971",
   "metadata": {},
   "source": [
    "### **Assignment Information**\n",
    "\n",
    "* **Course:** Statistical Learning and Data Mining\n",
    "* **Covered Chapters:**\n",
    "    * Chapter 1: Introduction (39 points)\n",
    "    * Chapter 2: Statistical Learning (61 points)\n",
    "* **Due Date:** **October 20, 2025 (Monday) 23:59**\n",
    "* **Submission:** Please convert the completed `.ipynb` file to a `.pdf` file and upload it to the NSYSU e-Learning platform: [https://elearn.nsysu.edu.tw/course/20328/homework#/](https://elearn.nsysu.edu.tw/course/20328/homework#/)\n",
    "* **File Naming Convention:** `HW1_StudentID_Name.pdf`\n",
    "\n",
    "---\n",
    "\n",
    "### **Instructions & Notes**\n",
    "\n",
    "1.  Please answer each question in the corresponding cell provided below it.\n",
    "2.  For **theoretical questions**, use a **Markdown cell** to write your answers. You are encouraged to use LaTeX for mathematical formulas (e.g., `$Y = f(X) + \\epsilon$`). If you find this difficult, you may write your answers on paper, take a picture, and embed the image in the cell.\n",
    "3.  For **practical (coding) questions**, use a **Code cell** to write your code. Ensure that the code can be executed successfully and that all required outputs (e.g., text, plots, etc.) are displayed.\n",
    "4.  It is highly recommended to add comments to the **key parts** of your code to help us understand your logic.\n",
    "5.  Discussion with classmates is permitted, but **plagiarism is strictly forbidden**. \n"
   ]
  },
  {
   "cell_type": "code",
   "execution_count": 3,
   "id": "8d24d087",
   "metadata": {
    "ExecuteTime": {
     "end_time": "2025-10-05T18:32:47.825982Z",
     "start_time": "2025-10-05T18:32:46.957568Z"
    }
   },
   "outputs": [],
   "source": [
    "import pandas as pd\n",
    "import numpy as np"
   ]
  },
  {
   "cell_type": "markdown",
   "id": "92c24ab3",
   "metadata": {},
   "source": [
    "<h2 style=\"color: darkblue;\">Chapter 1: Introduction</h2>\n",
    "<h2 style=\"color: black;\">Part I: Theoretical Problems</h2>"
   ]
  },
  {
   "cell_type": "markdown",
   "id": "c0ff02aa",
   "metadata": {},
   "source": [
    "### Question 1: The Essence of Statistical Learning"
   ]
  },
  {
   "cell_type": "markdown",
   "id": "71e9bfe9",
   "metadata": {},
   "source": [
    "Based on the course content, answer the following two questions:"
   ]
  },
  {
   "cell_type": "markdown",
   "id": "38510afd",
   "metadata": {},
   "source": [
    "(a) In your own words, what is Statistical Learning? (3 points)"
   ]
  },
  {
   "cell_type": "markdown",
   "id": "b0a41c98",
   "metadata": {},
   "source": [
    "Ans:"
   ]
  },
  {
   "cell_type": "markdown",
   "id": "7e7dd531",
   "metadata": {},
   "source": [
    "(b) Provide at least two real-world applications of Statistical Learning. For each application, briefly describe what the goal is (e.g., what is being predicted or discovered) (3points)"
   ]
  },
  {
   "cell_type": "markdown",
   "id": "4f198ee8",
   "metadata": {},
   "source": [
    "Ans:"
   ]
  },
  {
   "cell_type": "markdown",
   "id": "a8823983",
   "metadata": {},
   "source": [
    "### Question 2: Supervised vs. Unsupervised Learning"
   ]
  },
  {
   "cell_type": "markdown",
   "id": "e537fb55",
   "metadata": {
    "ExecuteTime": {
     "end_time": "2025-10-05T18:06:56.412085Z",
     "start_time": "2025-10-05T18:06:56.404087Z"
    }
   },
   "source": [
    "(a) Explain the main difference between Supervised Learning and Unsupervised Learning. (4 points)"
   ]
  },
  {
   "cell_type": "markdown",
   "id": "3acb9055",
   "metadata": {},
   "source": [
    "Ans:"
   ]
  },
  {
   "cell_type": "markdown",
   "id": "0f422d44",
   "metadata": {},
   "source": [
    "(b) In Supervised Learning, we often have a general goal of modeling the relationship `Y=f(X)+ϵ` to predict the target Y based on predictors X. Does Unsupervised Learning have a similar general form or goal? If so, what is it? If not, why not? (6 points) <p style=\"color:red\">hint: the purpose of Unsupervised Learning is to explore the structure of X</p>"
   ]
  },
  {
   "cell_type": "markdown",
   "id": "4c2c1a80",
   "metadata": {},
   "source": [
    "Ans:"
   ]
  },
  {
   "cell_type": "markdown",
   "id": "d2178a29",
   "metadata": {},
   "source": [
    "### Question 3: The Data Science Workflow"
   ]
  },
  {
   "cell_type": "markdown",
   "id": "bbf36c71",
   "metadata": {
    "ExecuteTime": {
     "end_time": "2025-10-05T18:14:37.221249Z",
     "start_time": "2025-10-05T18:14:37.215049Z"
    }
   },
   "source": [
    "A typical data science project involves several key stages. Below are the common stages listed in a random order. Please reorder them into a logical workflow and provide a brief (one-sentence) description for each stage. (3 points)\n",
    "\n",
    "- Modeling\n",
    "\n",
    "- Data Collection\n",
    "\n",
    "- Problem Definition & Goal Setting\n",
    "\n",
    "- Deployment & Monitoring\n",
    "\n",
    "- Data Cleaning & Preparation\n",
    "\n",
    "- Evaluation & Interpretation\n",
    "\n",
    "- Exploratory Data Analysis (EDA)\n",
    "\n",
    "- Feature engineering"
   ]
  },
  {
   "cell_type": "markdown",
   "id": "9612d4d6",
   "metadata": {},
   "source": [
    "Ans:"
   ]
  },
  {
   "cell_type": "markdown",
   "id": "9dbfe4bf",
   "metadata": {},
   "source": [
    "<h2 style=\"color: black;\">Part II: Practical Problems</h2>"
   ]
  },
  {
   "cell_type": "markdown",
   "id": "94820d11",
   "metadata": {},
   "source": [
    "### Question 4: Exploratory data analysis"
   ]
  },
  {
   "cell_type": "markdown",
   "id": "17bb0716",
   "metadata": {},
   "source": [
    "This exercise relates to the **College** data set, which can be found in the ﬁle **College.csv** on the book website. It contains a number of variables for 777 different universities and colleges in the US. The variables are\n",
    "\n",
    "- **Private** : Public/private indicator\n",
    "- **Apps** : Number of applications received\n",
    "- **Accept** : Number of applicants accepted\n",
    "- **Enroll** : Number of new students enrolled\n",
    "- **Top10perc** : New students from top 10 % of high school class\n",
    "- **Top25perc** : New students from top 25 % of high school class\n",
    "- **F.Undergrad** : Number of full-time undergraduates\n",
    "- **P.Undergrad** : Number of part-time undergraduates\n",
    "- **Outstate** : Out-of-state tuition\n",
    "- **Room.Board** : Room and board costs\n",
    "- **Books** : Estimated book costs\n",
    "- **Personal** : Estimated personal spending\n",
    "- **PhD** : Percent of faculty with Ph.D.’s\n",
    "- **Terminal** : Percent of faculty with terminal degree\n",
    "- **S.F.Ratio** : Student/faculty ratio\n",
    "- **perc.alumni** : Percent of alumni who donate\n",
    "- **Expend** : Instructional expenditure per student\n",
    "- **Grad.Rate** : Graduation rate\n",
    "\n",
    "Before reading the data into <span style=\"color: #922B21;\">Python</span>, it can be viewed in Excel or a text\n",
    "editor.\n",
    "\n",
    "(a) Use the <span style=\"color: #922B21;\">pd.read_csv()</span>\n",
    " function to read the data into python. Call the loaded data <span style=\"color: #922B21;\">college</span>. Make sure that you have the directory set to the correct location for the data. (1 point)"
   ]
  },
  {
   "cell_type": "code",
   "execution_count": null,
   "id": "e4f35ba2",
   "metadata": {},
   "outputs": [],
   "source": []
  },
  {
   "cell_type": "markdown",
   "id": "cd1d2d1a",
   "metadata": {},
   "source": [
    "(b) Look at the data using the <span style=\"color: #922B21;\">college.head()</span> function. You should notice\n",
    "that the first column is just the name of each university.We don’t\n",
    "really want <span style=\"color: #922B21;\">Python</span> to treat this as data. However, it may be handy to have these names for later. Try the following commands:\n",
    "\n",
    "---\n",
    "> college.index = college[\"Unnamed: 0\"]<br>\n",
    "> college.index.name = 'Names'<br>\n",
    "> college.head()<br>\n",
    "---\n",
    "\n",
    "You should see that there is now a <span style=\"color: #922B21;\">index</span> column with the name of each university recorded. This means that <span style=\"color: #922B21;\">python</span> has given\n",
    "each row a name corresponding to the appropriate university. <span style=\"color: #922B21;\">Python</span>\n",
    "will not try to perform calculations on the row names. However,\n",
    "we still need to eliminate the first column in the data where the\n",
    "names are stored. Try\n",
    "\n",
    "---\n",
    "> college = college.drop(\"Unnamed: 0\", axis=1)<br>\n",
    "> college.head()\n",
    "---\n",
    "\n",
    "Now you should see that the first data column is <span style=\"color: #922B21;\">Private</span>. Note\n",
    "that another column labeled <span style=\"color: #922B21;\">index</span> now appears before the\n",
    "<span style=\"color: #922B21;\">Private</span> column. However, this is not a data column but rather the name that <span style=\"color: #922B21;\">Python</span> is giving to each row. (1 point)"
   ]
  },
  {
   "cell_type": "code",
   "execution_count": null,
   "id": "c9c64f70",
   "metadata": {},
   "outputs": [],
   "source": []
  },
  {
   "cell_type": "markdown",
   "id": "37affc6e",
   "metadata": {},
   "source": [
    "(c)\n",
    "\n",
    "i. Use the <span style=\"color: #922B21;\">college.describe()</span> function to produce a numerical summary of the variables in the data set. (1 point)"
   ]
  },
  {
   "cell_type": "code",
   "execution_count": null,
   "id": "98f48f1b",
   "metadata": {},
   "outputs": [],
   "source": []
  },
  {
   "cell_type": "markdown",
   "id": "c6aefad1",
   "metadata": {},
   "source": [
    "ii. Use the <span style=\"color: #922B21;\">sns.pairplot()</span> function to produce a scatterplot matrix of the first ten columns or variables of the data. Recall that you can reference the first ten columns of a matrix <span style=\"color: #922B21;\">A</span> using\n",
    "<span style=\"color: #922B21;\">A.iloc[:,0:10]</span>. (1 point)"
   ]
  },
  {
   "cell_type": "code",
   "execution_count": null,
   "id": "211479f8",
   "metadata": {},
   "outputs": [],
   "source": []
  },
  {
   "cell_type": "markdown",
   "id": "c3586429",
   "metadata": {},
   "source": [
    "iii. Use the <span style=\"color: #922B21;\">sns.boxplot()</span> function to produce side-by-side boxplots of <span style=\"color: #922B21;\">Outstate</span> versus <span style=\"color: #922B21;\">Private</span>. (1 point)"
   ]
  },
  {
   "cell_type": "code",
   "execution_count": null,
   "id": "621def69",
   "metadata": {},
   "outputs": [],
   "source": []
  },
  {
   "cell_type": "markdown",
   "id": "2e25f9ea",
   "metadata": {},
   "source": [
    "iv. Create a new qualitative variable, called <span style=\"color: #922B21;\">Elite</span>, by binning the <span style=\"color: #922B21;\">Top10perc</span> variable. We are going to divide universities\n",
    "into two groups based on whether or not the proportion of students coming from the top 10% of their high school classes exceeds 50 %.\n",
    "\n",
    "---\n",
    "> college['Elite'] = np.where(college['Top10perc'] > 50,'Yes','No')<br>\n",
    "> college.head()\n",
    "---\n",
    "\n",
    "Use the <span style=\"color: #922B21;\">college['Elite'].value_counts()</span> function to see how many elite universities there are. Now use the <span style=\"color: #922B21;\">sns.boxplot()</span> function to produce side-by-side boxplots of <span style=\"color: #922B21;\">Outstate</span> versus <span style=\"color: #922B21;\">Elite</span>. (1 point)\n"
   ]
  },
  {
   "cell_type": "code",
   "execution_count": null,
   "id": "17aa7ba0",
   "metadata": {},
   "outputs": [],
   "source": []
  },
  {
   "cell_type": "markdown",
   "id": "926e7594",
   "metadata": {},
   "source": [
    "v. Use the <span style=\"color: #922B21;\">sns.histplot()</span> function to produce some histograms with differing numbers of bins for a few of the quantitative variables. (1 point)"
   ]
  },
  {
   "cell_type": "code",
   "execution_count": null,
   "id": "61d22887",
   "metadata": {},
   "outputs": [],
   "source": []
  },
  {
   "cell_type": "markdown",
   "id": "2748d1d3",
   "metadata": {},
   "source": [
    "vi. Continue exploring the data, and provide a brief summary of what you discover. (5 points)"
   ]
  },
  {
   "cell_type": "code",
   "execution_count": null,
   "id": "77b420c7",
   "metadata": {},
   "outputs": [],
   "source": []
  },
  {
   "cell_type": "markdown",
   "id": "a1ae7731",
   "metadata": {},
   "source": [
    "### Question 5:  The Pitfall of Visualization - Simpson's Paradox"
   ]
  },
  {
   "cell_type": "markdown",
   "id": "c97afd32",
   "metadata": {},
   "source": [
    "In this problem, we will explore a famous statistical phenomenon called Simpson's Paradox, which demonstrates why looking at data from different perspectives is crucial.\n",
    "\n",
    "First, run the code cell below to generate the dataset for this problem. The dataset will be stored in a pandas DataFrame called `df_simpson.`"
   ]
  },
  {
   "cell_type": "code",
   "execution_count": 56,
   "id": "1948ccf1",
   "metadata": {
    "ExecuteTime": {
     "end_time": "2025-10-05T18:49:58.951550Z",
     "start_time": "2025-10-05T18:49:58.936268Z"
    }
   },
   "outputs": [
    {
     "name": "stdout",
     "output_type": "stream",
     "text": [
      "Simpson's Paradox Dataset created.\n"
     ]
    },
    {
     "data": {
      "text/html": [
       "<div>\n",
       "<style scoped>\n",
       "    .dataframe tbody tr th:only-of-type {\n",
       "        vertical-align: middle;\n",
       "    }\n",
       "\n",
       "    .dataframe tbody tr th {\n",
       "        vertical-align: top;\n",
       "    }\n",
       "\n",
       "    .dataframe thead th {\n",
       "        text-align: right;\n",
       "    }\n",
       "</style>\n",
       "<table border=\"1\" class=\"dataframe\">\n",
       "  <thead>\n",
       "    <tr style=\"text-align: right;\">\n",
       "      <th></th>\n",
       "      <th>x</th>\n",
       "      <th>y</th>\n",
       "      <th>group</th>\n",
       "    </tr>\n",
       "  </thead>\n",
       "  <tbody>\n",
       "    <tr>\n",
       "      <th>0</th>\n",
       "      <td>8.745401</td>\n",
       "      <td>47.926038</td>\n",
       "      <td>Group A</td>\n",
       "    </tr>\n",
       "    <tr>\n",
       "      <th>1</th>\n",
       "      <td>14.507143</td>\n",
       "      <td>57.519249</td>\n",
       "      <td>Group A</td>\n",
       "    </tr>\n",
       "    <tr>\n",
       "      <th>2</th>\n",
       "      <td>12.319939</td>\n",
       "      <td>55.098683</td>\n",
       "      <td>Group A</td>\n",
       "    </tr>\n",
       "    <tr>\n",
       "      <th>3</th>\n",
       "      <td>10.986585</td>\n",
       "      <td>42.035325</td>\n",
       "      <td>Group A</td>\n",
       "    </tr>\n",
       "    <tr>\n",
       "      <th>4</th>\n",
       "      <td>6.560186</td>\n",
       "      <td>42.022013</td>\n",
       "      <td>Group A</td>\n",
       "    </tr>\n",
       "  </tbody>\n",
       "</table>\n",
       "</div>"
      ],
      "text/plain": [
       "           x          y    group\n",
       "0   8.745401  47.926038  Group A\n",
       "1  14.507143  57.519249  Group A\n",
       "2  12.319939  55.098683  Group A\n",
       "3  10.986585  42.035325  Group A\n",
       "4   6.560186  42.022013  Group A"
      ]
     },
     "execution_count": 56,
     "metadata": {},
     "output_type": "execute_result"
    }
   ],
   "source": [
    "np.random.seed(42)\n",
    "\n",
    "\n",
    "n_a = 100\n",
    "x_a = np.random.rand(n_a) * 10 + 5   \n",
    "y_a = 2 * x_a + np.random.randn(n_a) * 5 + 30 # y = 2x + 30 + noise\n",
    "\n",
    "n_b = 100\n",
    "x_b = np.random.rand(n_b) * 10 + 10  \n",
    "y_b = 1.5 * x_b + np.random.randn(n_b) * 5 + 15 # y = 1.5x + 15 + noise\n",
    "\n",
    "\n",
    "n_c = 100\n",
    "x_c = np.random.rand(n_c) * 10 + 15  # x 在 [25, 35] 之間\n",
    "y_c = 1 * x_c + np.random.randn(n_c) * 5 + 0 # y = x + 0 + noise\n",
    "x = np.concatenate([x_a, x_b, x_c])\n",
    "y = np.concatenate([y_a, y_b, y_c])\n",
    "groups = ['Group A'] * n_a + ['Group B'] * n_b + ['Group C'] * n_c\n",
    "\n",
    "df_simpson = pd.DataFrame({\n",
    "    'x': x,\n",
    "    'y': y,\n",
    "    'group': groups\n",
    "})\n",
    "\n",
    "print(\"Simpson's Paradox Dataset created.\")\n",
    "df_simpson.head()"
   ]
  },
  {
   "cell_type": "markdown",
   "id": "5dceb1c6",
   "metadata": {},
   "source": [
    "Now, using the `df_simpson` DataFrame, perform the following tasks:\n",
    "\n",
    "(a) Create a scatter plot of y vs. x for the entire dataset. Calculate the overall correlation coefficient between x and y using `.corr().` Based on these results, what would you conclude about the relationship between x and y? (2 points)"
   ]
  },
  {
   "cell_type": "code",
   "execution_count": null,
   "id": "3b0b11e8",
   "metadata": {},
   "outputs": [],
   "source": []
  },
  {
   "cell_type": "markdown",
   "id": "70af8d0e",
   "metadata": {},
   "source": [
    "(b) Now, create another scatter plot of y vs. x, but this time, use the hue parameter (if using seaborn) or a similar feature in other libraries to color the points according to the `group variable`. (2 points)"
   ]
  },
  {
   "cell_type": "code",
   "execution_count": null,
   "id": "b0ac5698",
   "metadata": {},
   "outputs": [],
   "source": []
  },
  {
   "cell_type": "markdown",
   "id": "b60b9262",
   "metadata": {},
   "source": [
    "(c) Calculate the correlation coefficient between x and y for each group separately. You can do this by using pandas' `groupby()` method. (2 points)"
   ]
  },
  {
   "cell_type": "code",
   "execution_count": null,
   "id": "9fcddc9f",
   "metadata": {},
   "outputs": [],
   "source": []
  },
  {
   "cell_type": "markdown",
   "id": "45430b86",
   "metadata": {},
   "source": [
    "(d) Compare your findings from (a), (b), and (c). Explain the apparent contradiction. What is the important lesson from this exercise when you perform data analysis in the future? (2 points)"
   ]
  },
  {
   "cell_type": "code",
   "execution_count": null,
   "id": "7ba9dacb",
   "metadata": {},
   "outputs": [],
   "source": []
  },
  {
   "cell_type": "markdown",
   "id": "bb79b4d6",
   "metadata": {
    "ExecuteTime": {
     "end_time": "2025-10-05T18:53:07.669780Z",
     "start_time": "2025-10-05T18:53:07.663884Z"
    }
   },
   "source": [
    "<h2 style=\"color: darkblue;\">Chapter 2: Statistical learning</h2>\n",
    "<h2 style=\"color: black;\">Part I: Theoretical Problems</h2>"
   ]
  },
  {
   "cell_type": "markdown",
   "id": "96441805",
   "metadata": {},
   "source": [
    "### Question 1: Sample size and parameter"
   ]
  },
  {
   "cell_type": "markdown",
   "id": "1e12b388",
   "metadata": {},
   "source": [
    "For each of parts (a) through (d), indicate whether we would generally expect the performance of a flexible statistical learning method to be better or worse than an inflexible method. Justify your answer."
   ]
  },
  {
   "cell_type": "markdown",
   "id": "91037af9",
   "metadata": {},
   "source": [
    "(a) The sample size n is extremely large, and the number of predictors p is small. (3 points)"
   ]
  },
  {
   "cell_type": "markdown",
   "id": "aa5b5ae7",
   "metadata": {},
   "source": [
    "Ans:"
   ]
  },
  {
   "cell_type": "markdown",
   "id": "b523e6d4",
   "metadata": {},
   "source": [
    "(b) The number of predictors p is extremely large, and the number of observations n is small. (3 points)"
   ]
  },
  {
   "cell_type": "markdown",
   "id": "15ebc1b2",
   "metadata": {},
   "source": [
    "Ans:"
   ]
  },
  {
   "cell_type": "markdown",
   "id": "8d48b49e",
   "metadata": {},
   "source": [
    "(c) The relationship between the predictors and response is highly non-linear. (3 points)"
   ]
  },
  {
   "cell_type": "markdown",
   "id": "e728d777",
   "metadata": {},
   "source": [
    "Ans:"
   ]
  },
  {
   "cell_type": "markdown",
   "id": "8814a544",
   "metadata": {},
   "source": [
    "(d) The variance of the error terms, i.e. σ2 = Var(ϵ), is extremely high. (3 points)"
   ]
  },
  {
   "cell_type": "markdown",
   "id": "d49e11db",
   "metadata": {},
   "source": [
    "Ans:"
   ]
  },
  {
   "cell_type": "markdown",
   "id": "4a9069de",
   "metadata": {},
   "source": [
    "### Question 2: Conceptual and Mathematical Understanding of the Bias-Variance Tradeoff"
   ]
  },
  {
   "cell_type": "markdown",
   "id": "12508d39",
   "metadata": {},
   "source": [
    "(a) Definition and Mathematical Decomposition:\n",
    "In a regression setting, we often use Mean Squared Error (MSE) to measure how well a model fits the data. The expected test MSE at a given point x can be mathematically decomposed into three fundamental quantities. (6 points)\n",
    "\n",
    "- First, in your own words, explain the concepts of model bias and model variance.\n",
    "\n",
    "- Second, write down the formula that shows this decomposition.\n",
    "\n",
    "- Finally, clearly label the terms in your formula corresponding to Squared Bias, Variance, and Irreducible Error."
   ]
  },
  {
   "cell_type": "markdown",
   "id": "46fe7198",
   "metadata": {},
   "source": [
    "Ans:"
   ]
  },
  {
   "cell_type": "markdown",
   "id": "77f6ba75",
   "metadata": {},
   "source": [
    "(b) The Trade-off Relationship:\n",
    "Why is there typically a \"trade-off\" between bias and variance? What generally happens to bias and variance as the flexibility (or complexity) of a model increases? (3 points)\n"
   ]
  },
  {
   "cell_type": "markdown",
   "id": "fc8c3a2c",
   "metadata": {},
   "source": [
    "Ans:"
   ]
  },
  {
   "cell_type": "markdown",
   "id": "27f78272",
   "metadata": {},
   "source": [
    "(c) Overfitting and Underfitting:\n",
    "Define overfitting and underfitting. Relate these two phenomena to the concepts of bias and variance (i.e., does a model that overfits have high bias or high variance? What about a model that underfits?). (3 points)"
   ]
  },
  {
   "cell_type": "markdown",
   "id": "05ea596b",
   "metadata": {},
   "source": [
    "Ans:"
   ]
  },
  {
   "cell_type": "markdown",
   "id": "c4dff495",
   "metadata": {},
   "source": [
    "###  Question 3: Derivation of the Optimal Predictor under L2 Loss"
   ]
  },
  {
   "cell_type": "markdown",
   "id": "8b1b132f",
   "metadata": {},
   "source": [
    "In supervised learning, specifically in a regression setting, we assume our data follows a model of the form $Y = f(X) + \\epsilon$, where $ϵ$ is a random error term with a mean of zero, independent of X. Our goal is to find an optimal prediction $\\hat{f}(X)$, that is as close as possible to the true response $Y$.\n",
    "\n",
    "The most common criterion for measuring the \"closeness\" or \"error\" is the Squared Error Loss, $(Y - \\hat{f}(X))^2$\n",
    " , which is based on the L2 norm. To find the best possible prediction at a specific point $X=x$, we aim to minimize the Expected Squared Prediction Error (ESPE) over the conditional distribution of $Y$ given $X=x$."
   ]
  },
  {
   "cell_type": "markdown",
   "id": "0e428d24",
   "metadata": {},
   "source": [
    "Prove that for any given point X=x, the prediction value $c = \\hat{f}(x)$ that minimizes the ESPE, defined as $E\\left[ (Y - c)^2 | X=x \\right]$, is precisely the conditional expectation of Y at that point. In other words, show that the optimal prediction is: $c = E[Y | X=x]$ (10 points)"
   ]
  },
  {
   "cell_type": "markdown",
   "id": "645cb37b",
   "metadata": {},
   "source": [
    "Ans:"
   ]
  },
  {
   "cell_type": "markdown",
   "id": "3f0b618a",
   "metadata": {},
   "source": [
    "### Question 4 : Equivalence of Max-Probability and Min-Distance Classification Rules"
   ]
  },
  {
   "cell_type": "markdown",
   "id": "0c74d0fc",
   "metadata": {},
   "source": [
    "Background:\n",
    "In a K-class classification problem, a common way to represent the target variable is through one-hot encoding. We define a set of K target vectors, $t_1, t_2, \\dots, t_K$ Each $t_k$ is a vector of length K that is zero everywhere except for a '1' in the k-th position. For example, for K=4, the target for class 3 would be $t_3 = (0, 0, 1, 0)$\n",
    "\n",
    "A model's prediction,  $\\hat{y}$\n",
    " , is a vector of length K, where the k-th element,  $\\hat{y}_k$\n",
    " , can be interpreted as the probability that the observation belongs to class k. A necessary condition for this is that the elements of  $\\hat{y}$ are non-negative and sum to one ($\\sum_{k=1}^K \\hat{y}_k = 1$).\n",
    "\n",
    "Show that classifying to the largest element of $\\hat{y}$ amounts to choosing the closest target, $\\text{argmin}_k \\, \\|t_k - \\hat{y}\\|^2$ , if the elements of $\\hat{y}$ sum to one (15 points)"
   ]
  },
  {
   "cell_type": "markdown",
   "id": "8414e402",
   "metadata": {},
   "source": []
  },
  {
   "cell_type": "markdown",
   "id": "b9e11c29",
   "metadata": {},
   "source": [
    "<h2 style=\"color: black;\">Part II: Practical Problems</h2>"
   ]
  },
  {
   "cell_type": "markdown",
   "id": "ef7df826",
   "metadata": {},
   "source": [
    "### Question 5:  EDA"
   ]
  },
  {
   "cell_type": "markdown",
   "id": "046ff550",
   "metadata": {
    "ExecuteTime": {
     "end_time": "2025-10-06T01:23:53.757025Z",
     "start_time": "2025-10-06T01:23:53.750023Z"
    }
   },
   "source": [
    "This exercise involves the **Auto** data set studied in the lab. Make sure\n",
    "that the missing values have been removed from the data.\n",
    "\n",
    "(a) Which of the predictors are quantitative, and which are qualitative? (2 points)"
   ]
  },
  {
   "cell_type": "code",
   "execution_count": null,
   "id": "1075fe66",
   "metadata": {},
   "outputs": [],
   "source": []
  },
  {
   "cell_type": "markdown",
   "id": "bbff7c72",
   "metadata": {},
   "source": [
    "(b) What is the range of each quantitative predictor? You can answer\n",
    "this using the Auto.describe() function. (2 points)"
   ]
  },
  {
   "cell_type": "code",
   "execution_count": null,
   "id": "4b67f389",
   "metadata": {},
   "outputs": [],
   "source": []
  },
  {
   "cell_type": "markdown",
   "id": "e72397e7",
   "metadata": {},
   "source": [
    "(c) What is the mean and standard deviation of each quantitative\n",
    "predictor? (2 points)"
   ]
  },
  {
   "cell_type": "code",
   "execution_count": null,
   "id": "a27a55eb",
   "metadata": {},
   "outputs": [],
   "source": []
  },
  {
   "cell_type": "markdown",
   "id": "90777b75",
   "metadata": {},
   "source": [
    "(d) Now remove the 10th through 85th observations. What is the\n",
    "range, mean, and standard deviation of each predictor in the\n",
    "subset of the data that remains? (2 points)"
   ]
  },
  {
   "cell_type": "code",
   "execution_count": null,
   "id": "0d263a76",
   "metadata": {},
   "outputs": [],
   "source": []
  },
  {
   "cell_type": "markdown",
   "id": "6f2c277d",
   "metadata": {},
   "source": [
    "(e) Using the full data set, investigate the predictors graphically,\n",
    "using scatterplots or other tools of your choice. Create some plots\n",
    "highlighting the relationships among the predictors. Comment\n",
    "on your findings. (2 points)"
   ]
  },
  {
   "cell_type": "code",
   "execution_count": null,
   "id": "7c670466",
   "metadata": {},
   "outputs": [],
   "source": []
  },
  {
   "cell_type": "markdown",
   "id": "244d7ad4",
   "metadata": {},
   "source": [
    "(f) Suppose that we wish to predict gas mileage (<span style=\"color: #922B21;\">mpg</span>) on the basis\n",
    "of the other variables. Do your plots suggest that any of the\n",
    "other variables might be useful in predicting <span style=\"color: #922B21;\">mpg</span>? Justify your\n",
    "answer. (2 points)"
   ]
  }
 ],
 "metadata": {
  "kernelspec": {
   "display_name": "Python 3 (ipykernel)",
   "language": "python",
   "name": "python3"
  },
  "language_info": {
   "codemirror_mode": {
    "name": "ipython",
    "version": 3
   },
   "file_extension": ".py",
   "mimetype": "text/x-python",
   "name": "python",
   "nbconvert_exporter": "python",
   "pygments_lexer": "ipython3",
   "version": "3.11.4"
  },
  "varInspector": {
   "cols": {
    "lenName": 16,
    "lenType": 16,
    "lenVar": 40
   },
   "kernels_config": {
    "python": {
     "delete_cmd_postfix": "",
     "delete_cmd_prefix": "del ",
     "library": "var_list.py",
     "varRefreshCmd": "print(var_dic_list())"
    },
    "r": {
     "delete_cmd_postfix": ") ",
     "delete_cmd_prefix": "rm(",
     "library": "var_list.r",
     "varRefreshCmd": "cat(var_dic_list()) "
    }
   },
   "types_to_exclude": [
    "module",
    "function",
    "builtin_function_or_method",
    "instance",
    "_Feature"
   ],
   "window_display": false
  }
 },
 "nbformat": 4,
 "nbformat_minor": 5
}
